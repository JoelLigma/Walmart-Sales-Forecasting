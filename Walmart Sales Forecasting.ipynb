{
 "cells": [
  {
   "cell_type": "markdown",
   "metadata": {},
   "source": [
    "# Predicting Walmart Store Sales "
   ]
  },
  {
   "cell_type": "markdown",
   "metadata": {},
   "source": [
    "**Author: Joel Ligma**            \n",
    "<br>\n",
    "**Date: July 2020 - July 2020**\n"
   ]
  },
  {
   "cell_type": "markdown",
   "metadata": {},
   "source": [
    "**Context**\n",
    "\n",
    "The data provided for this project contains historical sales data for 45 Walmart stores located in different regions of the US. Each store contains a number of departments, and the goal for this project is to predict the department-wide sales for each store.\n",
    "\n",
    "In addition, Walmart runs several promotional markdown events throughout the year. These markdowns precede prominent holidays, the four largest of which are the Super Bowl, Labor Day, Thanksgiving, and Christmas. The weeks including these holidays are weighted five times higher in the evaluation than non-holiday weeks. \n",
    "\n",
    "For convenience, the four holidays fall within the following weeks in the dataset (not all holidays are in the data):\n",
    "\n",
    "- Super Bowl: 12-Feb-10, 11-Feb-11, 10-Feb-12, 8-Feb-13\n",
    "- Labor Day: 10-Sep-10, 9-Sep-11, 7-Sep-12, 6-Sep-13\n",
    "- Thanksgiving: 26-Nov-10, 25-Nov-11, 23-Nov-12, 29-Nov-13\n",
    "- Christmas: 31-Dec-10, 30-Dec-11, 28-Dec-12, 27-Dec-13\n",
    "\n",
    "Dataset Link: https://www.kaggle.com/c/walmart-recruiting-store-sales-forecasting/overview/description"
   ]
  },
  {
   "cell_type": "markdown",
   "metadata": {},
   "source": [
    "## Table of Contents\n",
    "**1) Data Preprocessing and Merging Multiple Datasets** \n",
    "- Data Cleaning\n",
    "- Dealing with Missing Values\n",
    "- Merging\n",
    "<br>\n",
    "\n",
    "**2) Exploratory Data Analysis (EDA)**\n",
    "- Summary Statistics\n",
    "- Univariate Analysis\n",
    "- Bivariate Analysis\n",
    "<br>\n",
    "\n",
    "**3) Data Preparation**\n",
    "- Dealing with Outliers\n",
    "- Feature Correlation\n",
    "- Dummy Coding\n",
    "- Identifying and Removing NZV/ ZV Predictors\n",
    "- Training, Validation and Test Split\n",
    "- Scaling Data\n",
    "<br>\n",
    "\n",
    "**4) Model Building & Validation**\n",
    "- Linear regression\n",
    "- Random Forest\n",
    "- XGBoost Regressor\n",
    "- Model Comparison\n",
    "<br>\n",
    "\n",
    "**5) Saving the Model**\n",
    "- Saving the Best Performing Model for Future Deployment\n",
    "<br>"
   ]
  },
  {
   "cell_type": "code",
   "execution_count": 57,
   "metadata": {},
   "outputs": [],
   "source": [
    "# import modules\n",
    "import pandas as pd\n",
    "import numpy as np\n",
    "import seaborn as sns\n",
    "import matplotlib.pyplot as plt\n",
    "%matplotlib inline\n",
    "import os # change wd\n",
    "\n",
    "# data prep\n",
    "from sklearn.impute import SimpleImputer\n",
    "import csv # write csv file of the complete dataset\n",
    "from sklearn.preprocessing import MinMaxScaler # for scaling\n",
    "from sklearn.model_selection import train_test_split, GridSearchCV\n",
    "from scipy import stats\n",
    "\n",
    "\n",
    "# model building\n",
    "from sklearn.linear_model import LinearRegression\n",
    "from sklearn.ensemble import RandomForestRegressor\n",
    "from xgboost import XGBRegressor\n",
    "\n",
    "# model validation\n",
    "from sklearn import metrics \n",
    "\n",
    "# saving the best performing model\n",
    "from sklearn.externals import joblib"
   ]
  },
  {
   "cell_type": "code",
   "execution_count": 35,
   "metadata": {},
   "outputs": [
    {
     "data": {
      "text/plain": [
       "'C:\\\\Users\\\\joell\\\\Downloads\\\\walmart-recruiting-store-sales-forecasting'"
      ]
     },
     "execution_count": 35,
     "metadata": {},
     "output_type": "execute_result"
    }
   ],
   "source": [
    "pwd"
   ]
  },
  {
   "cell_type": "code",
   "execution_count": 36,
   "metadata": {},
   "outputs": [],
   "source": [
    "# change wd\n",
    "os.chdir('C:\\\\Users\\\\joell\\\\Downloads\\\\walmart-recruiting-store-sales-forecasting')"
   ]
  },
  {
   "cell_type": "code",
   "execution_count": 19,
   "metadata": {},
   "outputs": [],
   "source": [
    "# load data\n",
    "stores = pd.read_csv(\"stores.csv\")\n",
    "features = pd.read_csv(\"features.csv\")\n",
    "train = pd.read_csv(\"train.csv\")\n",
    "test = pd.read_csv(\"test.csv\")"
   ]
  },
  {
   "cell_type": "markdown",
   "metadata": {},
   "source": [
    "# 1) Merging Multiple Datasets"
   ]
  },
  {
   "cell_type": "markdown",
   "metadata": {},
   "source": [
    "# Stores Dateset\n"
   ]
  },
  {
   "cell_type": "markdown",
   "metadata": {},
   "source": [
    "This file contains anonymized information about the 45 stores, indicating the type and size of store.\n",
    "\n",
    "\n",
    "- Store - the store number\n",
    "- Type - the store type\n",
    "- Size - the store size in square feet\n"
   ]
  },
  {
   "cell_type": "code",
   "execution_count": 5,
   "metadata": {},
   "outputs": [
    {
     "name": "stdout",
     "output_type": "stream",
     "text": [
      "<class 'pandas.core.frame.DataFrame'>\n",
      "RangeIndex: 45 entries, 0 to 44\n",
      "Data columns (total 3 columns):\n",
      " #   Column  Non-Null Count  Dtype \n",
      "---  ------  --------------  ----- \n",
      " 0   Store   45 non-null     int64 \n",
      " 1   Type    45 non-null     object\n",
      " 2   Size    45 non-null     int64 \n",
      "dtypes: int64(2), object(1)\n",
      "memory usage: 1.2+ KB\n"
     ]
    }
   ],
   "source": [
    "stores.info()"
   ]
  },
  {
   "cell_type": "code",
   "execution_count": 6,
   "metadata": {},
   "outputs": [
    {
     "data": {
      "text/html": [
       "<div>\n",
       "<style scoped>\n",
       "    .dataframe tbody tr th:only-of-type {\n",
       "        vertical-align: middle;\n",
       "    }\n",
       "\n",
       "    .dataframe tbody tr th {\n",
       "        vertical-align: top;\n",
       "    }\n",
       "\n",
       "    .dataframe thead th {\n",
       "        text-align: right;\n",
       "    }\n",
       "</style>\n",
       "<table border=\"1\" class=\"dataframe\">\n",
       "  <thead>\n",
       "    <tr style=\"text-align: right;\">\n",
       "      <th></th>\n",
       "      <th>Store</th>\n",
       "      <th>Type</th>\n",
       "      <th>Size</th>\n",
       "    </tr>\n",
       "  </thead>\n",
       "  <tbody>\n",
       "    <tr>\n",
       "      <th>0</th>\n",
       "      <td>1</td>\n",
       "      <td>A</td>\n",
       "      <td>151315</td>\n",
       "    </tr>\n",
       "    <tr>\n",
       "      <th>1</th>\n",
       "      <td>2</td>\n",
       "      <td>A</td>\n",
       "      <td>202307</td>\n",
       "    </tr>\n",
       "    <tr>\n",
       "      <th>2</th>\n",
       "      <td>3</td>\n",
       "      <td>B</td>\n",
       "      <td>37392</td>\n",
       "    </tr>\n",
       "    <tr>\n",
       "      <th>3</th>\n",
       "      <td>4</td>\n",
       "      <td>A</td>\n",
       "      <td>205863</td>\n",
       "    </tr>\n",
       "    <tr>\n",
       "      <th>4</th>\n",
       "      <td>5</td>\n",
       "      <td>B</td>\n",
       "      <td>34875</td>\n",
       "    </tr>\n",
       "  </tbody>\n",
       "</table>\n",
       "</div>"
      ],
      "text/plain": [
       "   Store Type    Size\n",
       "0      1    A  151315\n",
       "1      2    A  202307\n",
       "2      3    B   37392\n",
       "3      4    A  205863\n",
       "4      5    B   34875"
      ]
     },
     "execution_count": 6,
     "metadata": {},
     "output_type": "execute_result"
    }
   ],
   "source": [
    "stores.head()"
   ]
  },
  {
   "cell_type": "markdown",
   "metadata": {},
   "source": [
    "# **Features Dataset**\n"
   ]
  },
  {
   "cell_type": "markdown",
   "metadata": {},
   "source": [
    "- Store - the store number\n",
    "- Date - the week\n",
    "- Temperature - average temperature in the region\n",
    "- Fuel_Price - cost of fuel in the region\n",
    "- MarkDown1-5 - anonymized data related to promotional markdowns that Walmart is running. MarkDown data is only available after - Nov 2011, and is not available for all stores all the time. Any missing value is marked with an NA.\n",
    "- CPI - the consumer price index\n",
    "- Unemployment - the unemployment rate\n",
    "- IsHoliday - whether the week is a special holiday week"
   ]
  },
  {
   "cell_type": "code",
   "execution_count": 7,
   "metadata": {},
   "outputs": [
    {
     "name": "stdout",
     "output_type": "stream",
     "text": [
      "<class 'pandas.core.frame.DataFrame'>\n",
      "RangeIndex: 8190 entries, 0 to 8189\n",
      "Data columns (total 12 columns):\n",
      " #   Column        Non-Null Count  Dtype  \n",
      "---  ------        --------------  -----  \n",
      " 0   Store         8190 non-null   int64  \n",
      " 1   Date          8190 non-null   object \n",
      " 2   Temperature   8190 non-null   float64\n",
      " 3   Fuel_Price    8190 non-null   float64\n",
      " 4   MarkDown1     4032 non-null   float64\n",
      " 5   MarkDown2     2921 non-null   float64\n",
      " 6   MarkDown3     3613 non-null   float64\n",
      " 7   MarkDown4     3464 non-null   float64\n",
      " 8   MarkDown5     4050 non-null   float64\n",
      " 9   CPI           7605 non-null   float64\n",
      " 10  Unemployment  7605 non-null   float64\n",
      " 11  IsHoliday     8190 non-null   bool   \n",
      "dtypes: bool(1), float64(9), int64(1), object(1)\n",
      "memory usage: 712.0+ KB\n"
     ]
    }
   ],
   "source": [
    "features.info()"
   ]
  },
  {
   "cell_type": "code",
   "execution_count": 8,
   "metadata": {},
   "outputs": [
    {
     "data": {
      "text/html": [
       "<div>\n",
       "<style scoped>\n",
       "    .dataframe tbody tr th:only-of-type {\n",
       "        vertical-align: middle;\n",
       "    }\n",
       "\n",
       "    .dataframe tbody tr th {\n",
       "        vertical-align: top;\n",
       "    }\n",
       "\n",
       "    .dataframe thead th {\n",
       "        text-align: right;\n",
       "    }\n",
       "</style>\n",
       "<table border=\"1\" class=\"dataframe\">\n",
       "  <thead>\n",
       "    <tr style=\"text-align: right;\">\n",
       "      <th></th>\n",
       "      <th>Store</th>\n",
       "      <th>Date</th>\n",
       "      <th>Temperature</th>\n",
       "      <th>Fuel_Price</th>\n",
       "      <th>MarkDown1</th>\n",
       "      <th>MarkDown2</th>\n",
       "      <th>MarkDown3</th>\n",
       "      <th>MarkDown4</th>\n",
       "      <th>MarkDown5</th>\n",
       "      <th>CPI</th>\n",
       "      <th>Unemployment</th>\n",
       "      <th>IsHoliday</th>\n",
       "    </tr>\n",
       "  </thead>\n",
       "  <tbody>\n",
       "    <tr>\n",
       "      <th>8185</th>\n",
       "      <td>45</td>\n",
       "      <td>2013-06-28</td>\n",
       "      <td>76.05</td>\n",
       "      <td>3.639</td>\n",
       "      <td>4842.29</td>\n",
       "      <td>975.03</td>\n",
       "      <td>3.00</td>\n",
       "      <td>2449.97</td>\n",
       "      <td>3169.69</td>\n",
       "      <td>NaN</td>\n",
       "      <td>NaN</td>\n",
       "      <td>False</td>\n",
       "    </tr>\n",
       "    <tr>\n",
       "      <th>8186</th>\n",
       "      <td>45</td>\n",
       "      <td>2013-07-05</td>\n",
       "      <td>77.50</td>\n",
       "      <td>3.614</td>\n",
       "      <td>9090.48</td>\n",
       "      <td>2268.58</td>\n",
       "      <td>582.74</td>\n",
       "      <td>5797.47</td>\n",
       "      <td>1514.93</td>\n",
       "      <td>NaN</td>\n",
       "      <td>NaN</td>\n",
       "      <td>False</td>\n",
       "    </tr>\n",
       "    <tr>\n",
       "      <th>8187</th>\n",
       "      <td>45</td>\n",
       "      <td>2013-07-12</td>\n",
       "      <td>79.37</td>\n",
       "      <td>3.614</td>\n",
       "      <td>3789.94</td>\n",
       "      <td>1827.31</td>\n",
       "      <td>85.72</td>\n",
       "      <td>744.84</td>\n",
       "      <td>2150.36</td>\n",
       "      <td>NaN</td>\n",
       "      <td>NaN</td>\n",
       "      <td>False</td>\n",
       "    </tr>\n",
       "    <tr>\n",
       "      <th>8188</th>\n",
       "      <td>45</td>\n",
       "      <td>2013-07-19</td>\n",
       "      <td>82.84</td>\n",
       "      <td>3.737</td>\n",
       "      <td>2961.49</td>\n",
       "      <td>1047.07</td>\n",
       "      <td>204.19</td>\n",
       "      <td>363.00</td>\n",
       "      <td>1059.46</td>\n",
       "      <td>NaN</td>\n",
       "      <td>NaN</td>\n",
       "      <td>False</td>\n",
       "    </tr>\n",
       "    <tr>\n",
       "      <th>8189</th>\n",
       "      <td>45</td>\n",
       "      <td>2013-07-26</td>\n",
       "      <td>76.06</td>\n",
       "      <td>3.804</td>\n",
       "      <td>212.02</td>\n",
       "      <td>851.73</td>\n",
       "      <td>2.06</td>\n",
       "      <td>10.88</td>\n",
       "      <td>1864.57</td>\n",
       "      <td>NaN</td>\n",
       "      <td>NaN</td>\n",
       "      <td>False</td>\n",
       "    </tr>\n",
       "  </tbody>\n",
       "</table>\n",
       "</div>"
      ],
      "text/plain": [
       "      Store        Date  Temperature  Fuel_Price  MarkDown1  MarkDown2  \\\n",
       "8185     45  2013-06-28        76.05       3.639    4842.29     975.03   \n",
       "8186     45  2013-07-05        77.50       3.614    9090.48    2268.58   \n",
       "8187     45  2013-07-12        79.37       3.614    3789.94    1827.31   \n",
       "8188     45  2013-07-19        82.84       3.737    2961.49    1047.07   \n",
       "8189     45  2013-07-26        76.06       3.804     212.02     851.73   \n",
       "\n",
       "      MarkDown3  MarkDown4  MarkDown5  CPI  Unemployment  IsHoliday  \n",
       "8185       3.00    2449.97    3169.69  NaN           NaN      False  \n",
       "8186     582.74    5797.47    1514.93  NaN           NaN      False  \n",
       "8187      85.72     744.84    2150.36  NaN           NaN      False  \n",
       "8188     204.19     363.00    1059.46  NaN           NaN      False  \n",
       "8189       2.06      10.88    1864.57  NaN           NaN      False  "
      ]
     },
     "execution_count": 8,
     "metadata": {},
     "output_type": "execute_result"
    }
   ],
   "source": [
    "features.tail()"
   ]
  },
  {
   "cell_type": "code",
   "execution_count": 9,
   "metadata": {},
   "outputs": [
    {
     "name": "stdout",
     "output_type": "stream",
     "text": [
      "The Walmart sales data was collected between 2010-02-05 and 2013-07-26\n"
     ]
    }
   ],
   "source": [
    "print(\"The Walmart sales data was collected between {} and {}\".format(features[\"Date\"].min(), features[\"Date\"].max()))"
   ]
  },
  {
   "cell_type": "code",
   "execution_count": 10,
   "metadata": {},
   "outputs": [
    {
     "data": {
      "text/html": [
       "<div>\n",
       "<style scoped>\n",
       "    .dataframe tbody tr th:only-of-type {\n",
       "        vertical-align: middle;\n",
       "    }\n",
       "\n",
       "    .dataframe tbody tr th {\n",
       "        vertical-align: top;\n",
       "    }\n",
       "\n",
       "    .dataframe thead th {\n",
       "        text-align: right;\n",
       "    }\n",
       "</style>\n",
       "<table border=\"1\" class=\"dataframe\">\n",
       "  <thead>\n",
       "    <tr style=\"text-align: right;\">\n",
       "      <th></th>\n",
       "      <th>Store</th>\n",
       "      <th>Temperature</th>\n",
       "      <th>Fuel_Price</th>\n",
       "      <th>MarkDown1</th>\n",
       "      <th>MarkDown2</th>\n",
       "      <th>MarkDown3</th>\n",
       "      <th>MarkDown4</th>\n",
       "      <th>MarkDown5</th>\n",
       "      <th>CPI</th>\n",
       "      <th>Unemployment</th>\n",
       "    </tr>\n",
       "  </thead>\n",
       "  <tbody>\n",
       "    <tr>\n",
       "      <th>count</th>\n",
       "      <td>8190.000000</td>\n",
       "      <td>8190.000000</td>\n",
       "      <td>8190.000000</td>\n",
       "      <td>4032.000000</td>\n",
       "      <td>2921.000000</td>\n",
       "      <td>3613.000000</td>\n",
       "      <td>3464.000000</td>\n",
       "      <td>4050.000000</td>\n",
       "      <td>7605.000000</td>\n",
       "      <td>7605.000000</td>\n",
       "    </tr>\n",
       "    <tr>\n",
       "      <th>mean</th>\n",
       "      <td>23.000000</td>\n",
       "      <td>59.356198</td>\n",
       "      <td>3.405992</td>\n",
       "      <td>7032.371786</td>\n",
       "      <td>3384.176594</td>\n",
       "      <td>1760.100180</td>\n",
       "      <td>3292.935886</td>\n",
       "      <td>4132.216422</td>\n",
       "      <td>172.460809</td>\n",
       "      <td>7.826821</td>\n",
       "    </tr>\n",
       "    <tr>\n",
       "      <th>std</th>\n",
       "      <td>12.987966</td>\n",
       "      <td>18.678607</td>\n",
       "      <td>0.431337</td>\n",
       "      <td>9262.747448</td>\n",
       "      <td>8793.583016</td>\n",
       "      <td>11276.462208</td>\n",
       "      <td>6792.329861</td>\n",
       "      <td>13086.690278</td>\n",
       "      <td>39.738346</td>\n",
       "      <td>1.877259</td>\n",
       "    </tr>\n",
       "    <tr>\n",
       "      <th>min</th>\n",
       "      <td>1.000000</td>\n",
       "      <td>-7.290000</td>\n",
       "      <td>2.472000</td>\n",
       "      <td>-2781.450000</td>\n",
       "      <td>-265.760000</td>\n",
       "      <td>-179.260000</td>\n",
       "      <td>0.220000</td>\n",
       "      <td>-185.170000</td>\n",
       "      <td>126.064000</td>\n",
       "      <td>3.684000</td>\n",
       "    </tr>\n",
       "    <tr>\n",
       "      <th>25%</th>\n",
       "      <td>12.000000</td>\n",
       "      <td>45.902500</td>\n",
       "      <td>3.041000</td>\n",
       "      <td>1577.532500</td>\n",
       "      <td>68.880000</td>\n",
       "      <td>6.600000</td>\n",
       "      <td>304.687500</td>\n",
       "      <td>1440.827500</td>\n",
       "      <td>132.364839</td>\n",
       "      <td>6.634000</td>\n",
       "    </tr>\n",
       "    <tr>\n",
       "      <th>50%</th>\n",
       "      <td>23.000000</td>\n",
       "      <td>60.710000</td>\n",
       "      <td>3.513000</td>\n",
       "      <td>4743.580000</td>\n",
       "      <td>364.570000</td>\n",
       "      <td>36.260000</td>\n",
       "      <td>1176.425000</td>\n",
       "      <td>2727.135000</td>\n",
       "      <td>182.764003</td>\n",
       "      <td>7.806000</td>\n",
       "    </tr>\n",
       "    <tr>\n",
       "      <th>75%</th>\n",
       "      <td>34.000000</td>\n",
       "      <td>73.880000</td>\n",
       "      <td>3.743000</td>\n",
       "      <td>8923.310000</td>\n",
       "      <td>2153.350000</td>\n",
       "      <td>163.150000</td>\n",
       "      <td>3310.007500</td>\n",
       "      <td>4832.555000</td>\n",
       "      <td>213.932412</td>\n",
       "      <td>8.567000</td>\n",
       "    </tr>\n",
       "    <tr>\n",
       "      <th>max</th>\n",
       "      <td>45.000000</td>\n",
       "      <td>101.950000</td>\n",
       "      <td>4.468000</td>\n",
       "      <td>103184.980000</td>\n",
       "      <td>104519.540000</td>\n",
       "      <td>149483.310000</td>\n",
       "      <td>67474.850000</td>\n",
       "      <td>771448.100000</td>\n",
       "      <td>228.976456</td>\n",
       "      <td>14.313000</td>\n",
       "    </tr>\n",
       "  </tbody>\n",
       "</table>\n",
       "</div>"
      ],
      "text/plain": [
       "             Store  Temperature   Fuel_Price      MarkDown1      MarkDown2  \\\n",
       "count  8190.000000  8190.000000  8190.000000    4032.000000    2921.000000   \n",
       "mean     23.000000    59.356198     3.405992    7032.371786    3384.176594   \n",
       "std      12.987966    18.678607     0.431337    9262.747448    8793.583016   \n",
       "min       1.000000    -7.290000     2.472000   -2781.450000    -265.760000   \n",
       "25%      12.000000    45.902500     3.041000    1577.532500      68.880000   \n",
       "50%      23.000000    60.710000     3.513000    4743.580000     364.570000   \n",
       "75%      34.000000    73.880000     3.743000    8923.310000    2153.350000   \n",
       "max      45.000000   101.950000     4.468000  103184.980000  104519.540000   \n",
       "\n",
       "           MarkDown3     MarkDown4      MarkDown5          CPI  Unemployment  \n",
       "count    3613.000000   3464.000000    4050.000000  7605.000000   7605.000000  \n",
       "mean     1760.100180   3292.935886    4132.216422   172.460809      7.826821  \n",
       "std     11276.462208   6792.329861   13086.690278    39.738346      1.877259  \n",
       "min      -179.260000      0.220000    -185.170000   126.064000      3.684000  \n",
       "25%         6.600000    304.687500    1440.827500   132.364839      6.634000  \n",
       "50%        36.260000   1176.425000    2727.135000   182.764003      7.806000  \n",
       "75%       163.150000   3310.007500    4832.555000   213.932412      8.567000  \n",
       "max    149483.310000  67474.850000  771448.100000   228.976456     14.313000  "
      ]
     },
     "execution_count": 10,
     "metadata": {},
     "output_type": "execute_result"
    }
   ],
   "source": [
    "features.describe()"
   ]
  },
  {
   "cell_type": "markdown",
   "metadata": {},
   "source": [
    "### Dealing with Missing Values"
   ]
  },
  {
   "cell_type": "markdown",
   "metadata": {},
   "source": [
    "**Markdown 1**"
   ]
  },
  {
   "cell_type": "code",
   "execution_count": 11,
   "metadata": {},
   "outputs": [
    {
     "name": "stdout",
     "output_type": "stream",
     "text": [
      "Total number of values in column: 4032\n",
      "Unique values: 4023\n",
      "Average value: 7032.37\n",
      "Median value:  4743.58\n"
     ]
    }
   ],
   "source": [
    "print(\"Total number of values in column: {}\".format(features[\"MarkDown1\"].notna().sum()))\n",
    "print(\"Unique values: {}\".format(features[\"MarkDown1\"].nunique()))\n",
    "print(\"Average value: {}\".format(round(features[\"MarkDown1\"].mean(),2)))\n",
    "print(\"Median value:  {}\".format(features[\"MarkDown1\"].median()))"
   ]
  },
  {
   "cell_type": "markdown",
   "metadata": {},
   "source": [
    "Looks like almost all **markdown1** values are unique values. The average value is much higher than the median value which implies a positvely skewed distribution and the existence of some very high values in the dataset."
   ]
  },
  {
   "cell_type": "markdown",
   "metadata": {},
   "source": [
    "**Markdown 2**"
   ]
  },
  {
   "cell_type": "code",
   "execution_count": 12,
   "metadata": {},
   "outputs": [
    {
     "name": "stdout",
     "output_type": "stream",
     "text": [
      "Total number of values in column: 2921\n",
      "Unique values: 2715\n",
      "Average value: 3384.18\n",
      "Median value:  364.57\n"
     ]
    }
   ],
   "source": [
    "print(\"Total number of values in column: {}\".format(features[\"MarkDown2\"].notna().sum()))\n",
    "print(\"Unique values: {}\".format(features[\"MarkDown2\"].nunique()))\n",
    "print(\"Average value: {}\".format(round(features[\"MarkDown2\"].mean(),2)))\n",
    "print(\"Median value:  {}\".format(features[\"MarkDown2\"].median()))"
   ]
  },
  {
   "cell_type": "markdown",
   "metadata": {},
   "source": [
    "**Markdown 3**"
   ]
  },
  {
   "cell_type": "code",
   "execution_count": 13,
   "metadata": {},
   "outputs": [
    {
     "name": "stdout",
     "output_type": "stream",
     "text": [
      "Total number of values in column: 3613\n",
      "Unique values: 2885\n",
      "Average value: 1760.1\n",
      "Median value:  36.26\n"
     ]
    }
   ],
   "source": [
    "print(\"Total number of values in column: {}\".format(features[\"MarkDown3\"].notna().sum()))\n",
    "print(\"Unique values: {}\".format(features[\"MarkDown3\"].nunique()))\n",
    "print(\"Average value: {}\".format(round(features[\"MarkDown3\"].mean(),2)))\n",
    "print(\"Median value:  {}\".format(features[\"MarkDown3\"].median()))"
   ]
  },
  {
   "cell_type": "markdown",
   "metadata": {},
   "source": [
    "**Markdown 4**"
   ]
  },
  {
   "cell_type": "code",
   "execution_count": 14,
   "metadata": {},
   "outputs": [
    {
     "name": "stdout",
     "output_type": "stream",
     "text": [
      "Total number of values in column: 3464\n",
      "Unique values: 3405\n",
      "Average value: 3292.94\n",
      "Median value:  1176.425\n"
     ]
    }
   ],
   "source": [
    "print(\"Total number of values in column: {}\".format(features[\"MarkDown4\"].notna().sum()))\n",
    "print(\"Unique values: {}\".format(features[\"MarkDown4\"].nunique()))\n",
    "print(\"Average value: {}\".format(round(features[\"MarkDown4\"].mean(),2)))\n",
    "print(\"Median value:  {}\".format(features[\"MarkDown4\"].median()))"
   ]
  },
  {
   "cell_type": "markdown",
   "metadata": {},
   "source": [
    "**Markdown 5**"
   ]
  },
  {
   "cell_type": "code",
   "execution_count": 15,
   "metadata": {},
   "outputs": [
    {
     "name": "stdout",
     "output_type": "stream",
     "text": [
      "Total number of values in column: 4050\n",
      "Unique values: 4045\n",
      "Average value: 4132.22\n",
      "Median value:  2727.135\n"
     ]
    }
   ],
   "source": [
    "print(\"Total number of values in column: {}\".format(features[\"MarkDown5\"].notna().sum()))\n",
    "print(\"Unique values: {}\".format(features[\"MarkDown5\"].nunique()))\n",
    "print(\"Average value: {}\".format(round(features[\"MarkDown5\"].mean(),2)))\n",
    "print(\"Median value:  {}\".format(features[\"MarkDown5\"].median()))"
   ]
  },
  {
   "cell_type": "markdown",
   "metadata": {},
   "source": [
    "We can observe similar findings in all other markdown features.\n",
    "\n",
    "Next, let's take a look at **CPI** and **Unemployment** which also showed missing values."
   ]
  },
  {
   "cell_type": "markdown",
   "metadata": {},
   "source": [
    "**CPI - Consumer Price Index**"
   ]
  },
  {
   "cell_type": "code",
   "execution_count": 16,
   "metadata": {},
   "outputs": [
    {
     "name": "stdout",
     "output_type": "stream",
     "text": [
      "Total number of values in column: 7605\n",
      "Unique values: 2505\n",
      "Average value: 172.46\n",
      "Median value:  182.7640032\n"
     ]
    }
   ],
   "source": [
    "print(\"Total number of values in column: {}\".format(features[\"CPI\"].notna().sum()))\n",
    "print(\"Unique values: {}\".format(features[\"CPI\"].nunique()))\n",
    "print(\"Average value: {}\".format(round(features[\"CPI\"].mean(),2)))\n",
    "print(\"Median value:  {}\".format(features[\"CPI\"].median()))"
   ]
  },
  {
   "cell_type": "markdown",
   "metadata": {},
   "source": [
    "For the **Consumer Price Index** feature, the mean is actually lower than the median, implying that the distribution is negatively skewed. Let's also use the median for this feature."
   ]
  },
  {
   "cell_type": "markdown",
   "metadata": {},
   "source": [
    "**Unemployment**"
   ]
  },
  {
   "cell_type": "code",
   "execution_count": 17,
   "metadata": {},
   "outputs": [
    {
     "name": "stdout",
     "output_type": "stream",
     "text": [
      "Total number of values in column: 7605\n",
      "Unique values: 404\n",
      "Average value: 7.83\n",
      "Median value:  7.806\n"
     ]
    }
   ],
   "source": [
    "print(\"Total number of values in column: {}\".format(features[\"Unemployment\"].notna().sum()))\n",
    "print(\"Unique values: {}\".format(features[\"Unemployment\"].nunique()))\n",
    "print(\"Average value: {}\".format(round(features[\"Unemployment\"].mean(),2)))\n",
    "print(\"Median value:  {}\".format(features[\"Unemployment\"].median()))"
   ]
  },
  {
   "cell_type": "markdown",
   "metadata": {},
   "source": [
    "For the **unemployment** feature, mean and median are almost identical, implying a normal distribution. For simplicity, let's also take the median for missing value imputation."
   ]
  },
  {
   "cell_type": "markdown",
   "metadata": {},
   "source": [
    "### Value Imputation"
   ]
  },
  {
   "cell_type": "markdown",
   "metadata": {},
   "source": [
    "**Imputing Median for missing values for CPI and Unemployment**"
   ]
  },
  {
   "cell_type": "code",
   "execution_count": 40,
   "metadata": {},
   "outputs": [
    {
     "data": {
      "text/html": [
       "<div>\n",
       "<style scoped>\n",
       "    .dataframe tbody tr th:only-of-type {\n",
       "        vertical-align: middle;\n",
       "    }\n",
       "\n",
       "    .dataframe tbody tr th {\n",
       "        vertical-align: top;\n",
       "    }\n",
       "\n",
       "    .dataframe thead th {\n",
       "        text-align: right;\n",
       "    }\n",
       "</style>\n",
       "<table border=\"1\" class=\"dataframe\">\n",
       "  <thead>\n",
       "    <tr style=\"text-align: right;\">\n",
       "      <th></th>\n",
       "      <th>Store</th>\n",
       "      <th>Date</th>\n",
       "      <th>Temperature</th>\n",
       "      <th>Fuel_Price</th>\n",
       "      <th>MarkDown1</th>\n",
       "      <th>MarkDown2</th>\n",
       "      <th>MarkDown3</th>\n",
       "      <th>MarkDown4</th>\n",
       "      <th>MarkDown5</th>\n",
       "      <th>IsHoliday</th>\n",
       "      <th>CPidx</th>\n",
       "      <th>Unemp_rate</th>\n",
       "    </tr>\n",
       "  </thead>\n",
       "  <tbody>\n",
       "    <tr>\n",
       "      <th>0</th>\n",
       "      <td>1</td>\n",
       "      <td>2010-02-05</td>\n",
       "      <td>42.31</td>\n",
       "      <td>2.572</td>\n",
       "      <td>NaN</td>\n",
       "      <td>NaN</td>\n",
       "      <td>NaN</td>\n",
       "      <td>NaN</td>\n",
       "      <td>NaN</td>\n",
       "      <td>False</td>\n",
       "      <td>211.096358</td>\n",
       "      <td>8.106</td>\n",
       "    </tr>\n",
       "    <tr>\n",
       "      <th>1</th>\n",
       "      <td>1</td>\n",
       "      <td>2010-02-12</td>\n",
       "      <td>38.51</td>\n",
       "      <td>2.548</td>\n",
       "      <td>NaN</td>\n",
       "      <td>NaN</td>\n",
       "      <td>NaN</td>\n",
       "      <td>NaN</td>\n",
       "      <td>NaN</td>\n",
       "      <td>True</td>\n",
       "      <td>211.242170</td>\n",
       "      <td>8.106</td>\n",
       "    </tr>\n",
       "    <tr>\n",
       "      <th>2</th>\n",
       "      <td>1</td>\n",
       "      <td>2010-02-19</td>\n",
       "      <td>39.93</td>\n",
       "      <td>2.514</td>\n",
       "      <td>NaN</td>\n",
       "      <td>NaN</td>\n",
       "      <td>NaN</td>\n",
       "      <td>NaN</td>\n",
       "      <td>NaN</td>\n",
       "      <td>False</td>\n",
       "      <td>211.289143</td>\n",
       "      <td>8.106</td>\n",
       "    </tr>\n",
       "    <tr>\n",
       "      <th>3</th>\n",
       "      <td>1</td>\n",
       "      <td>2010-02-26</td>\n",
       "      <td>46.63</td>\n",
       "      <td>2.561</td>\n",
       "      <td>NaN</td>\n",
       "      <td>NaN</td>\n",
       "      <td>NaN</td>\n",
       "      <td>NaN</td>\n",
       "      <td>NaN</td>\n",
       "      <td>False</td>\n",
       "      <td>211.319643</td>\n",
       "      <td>8.106</td>\n",
       "    </tr>\n",
       "    <tr>\n",
       "      <th>4</th>\n",
       "      <td>1</td>\n",
       "      <td>2010-03-05</td>\n",
       "      <td>46.50</td>\n",
       "      <td>2.625</td>\n",
       "      <td>NaN</td>\n",
       "      <td>NaN</td>\n",
       "      <td>NaN</td>\n",
       "      <td>NaN</td>\n",
       "      <td>NaN</td>\n",
       "      <td>False</td>\n",
       "      <td>211.350143</td>\n",
       "      <td>8.106</td>\n",
       "    </tr>\n",
       "    <tr>\n",
       "      <th>...</th>\n",
       "      <td>...</td>\n",
       "      <td>...</td>\n",
       "      <td>...</td>\n",
       "      <td>...</td>\n",
       "      <td>...</td>\n",
       "      <td>...</td>\n",
       "      <td>...</td>\n",
       "      <td>...</td>\n",
       "      <td>...</td>\n",
       "      <td>...</td>\n",
       "      <td>...</td>\n",
       "      <td>...</td>\n",
       "    </tr>\n",
       "    <tr>\n",
       "      <th>8185</th>\n",
       "      <td>45</td>\n",
       "      <td>2013-06-28</td>\n",
       "      <td>76.05</td>\n",
       "      <td>3.639</td>\n",
       "      <td>4842.29</td>\n",
       "      <td>975.03</td>\n",
       "      <td>3.00</td>\n",
       "      <td>2449.97</td>\n",
       "      <td>3169.69</td>\n",
       "      <td>False</td>\n",
       "      <td>182.764003</td>\n",
       "      <td>7.806</td>\n",
       "    </tr>\n",
       "    <tr>\n",
       "      <th>8186</th>\n",
       "      <td>45</td>\n",
       "      <td>2013-07-05</td>\n",
       "      <td>77.50</td>\n",
       "      <td>3.614</td>\n",
       "      <td>9090.48</td>\n",
       "      <td>2268.58</td>\n",
       "      <td>582.74</td>\n",
       "      <td>5797.47</td>\n",
       "      <td>1514.93</td>\n",
       "      <td>False</td>\n",
       "      <td>182.764003</td>\n",
       "      <td>7.806</td>\n",
       "    </tr>\n",
       "    <tr>\n",
       "      <th>8187</th>\n",
       "      <td>45</td>\n",
       "      <td>2013-07-12</td>\n",
       "      <td>79.37</td>\n",
       "      <td>3.614</td>\n",
       "      <td>3789.94</td>\n",
       "      <td>1827.31</td>\n",
       "      <td>85.72</td>\n",
       "      <td>744.84</td>\n",
       "      <td>2150.36</td>\n",
       "      <td>False</td>\n",
       "      <td>182.764003</td>\n",
       "      <td>7.806</td>\n",
       "    </tr>\n",
       "    <tr>\n",
       "      <th>8188</th>\n",
       "      <td>45</td>\n",
       "      <td>2013-07-19</td>\n",
       "      <td>82.84</td>\n",
       "      <td>3.737</td>\n",
       "      <td>2961.49</td>\n",
       "      <td>1047.07</td>\n",
       "      <td>204.19</td>\n",
       "      <td>363.00</td>\n",
       "      <td>1059.46</td>\n",
       "      <td>False</td>\n",
       "      <td>182.764003</td>\n",
       "      <td>7.806</td>\n",
       "    </tr>\n",
       "    <tr>\n",
       "      <th>8189</th>\n",
       "      <td>45</td>\n",
       "      <td>2013-07-26</td>\n",
       "      <td>76.06</td>\n",
       "      <td>3.804</td>\n",
       "      <td>212.02</td>\n",
       "      <td>851.73</td>\n",
       "      <td>2.06</td>\n",
       "      <td>10.88</td>\n",
       "      <td>1864.57</td>\n",
       "      <td>False</td>\n",
       "      <td>182.764003</td>\n",
       "      <td>7.806</td>\n",
       "    </tr>\n",
       "  </tbody>\n",
       "</table>\n",
       "<p>8190 rows × 12 columns</p>\n",
       "</div>"
      ],
      "text/plain": [
       "      Store        Date  Temperature  Fuel_Price  MarkDown1  MarkDown2  \\\n",
       "0         1  2010-02-05        42.31       2.572        NaN        NaN   \n",
       "1         1  2010-02-12        38.51       2.548        NaN        NaN   \n",
       "2         1  2010-02-19        39.93       2.514        NaN        NaN   \n",
       "3         1  2010-02-26        46.63       2.561        NaN        NaN   \n",
       "4         1  2010-03-05        46.50       2.625        NaN        NaN   \n",
       "...     ...         ...          ...         ...        ...        ...   \n",
       "8185     45  2013-06-28        76.05       3.639    4842.29     975.03   \n",
       "8186     45  2013-07-05        77.50       3.614    9090.48    2268.58   \n",
       "8187     45  2013-07-12        79.37       3.614    3789.94    1827.31   \n",
       "8188     45  2013-07-19        82.84       3.737    2961.49    1047.07   \n",
       "8189     45  2013-07-26        76.06       3.804     212.02     851.73   \n",
       "\n",
       "      MarkDown3  MarkDown4  MarkDown5  IsHoliday       CPidx  Unemp_rate  \n",
       "0           NaN        NaN        NaN      False  211.096358       8.106  \n",
       "1           NaN        NaN        NaN       True  211.242170       8.106  \n",
       "2           NaN        NaN        NaN      False  211.289143       8.106  \n",
       "3           NaN        NaN        NaN      False  211.319643       8.106  \n",
       "4           NaN        NaN        NaN      False  211.350143       8.106  \n",
       "...         ...        ...        ...        ...         ...         ...  \n",
       "8185       3.00    2449.97    3169.69      False  182.764003       7.806  \n",
       "8186     582.74    5797.47    1514.93      False  182.764003       7.806  \n",
       "8187      85.72     744.84    2150.36      False  182.764003       7.806  \n",
       "8188     204.19     363.00    1059.46      False  182.764003       7.806  \n",
       "8189       2.06      10.88    1864.57      False  182.764003       7.806  \n",
       "\n",
       "[8190 rows x 12 columns]"
      ]
     },
     "execution_count": 40,
     "metadata": {},
     "output_type": "execute_result"
    }
   ],
   "source": [
    "# separate features into new dataframe for imputation\n",
    "features_imp = features[{\"CPI\", \"Unemployment\"}]\n",
    "# create imputer instance\n",
    "imp_median = SimpleImputer(missing_values=np.nan, strategy='median')\n",
    "# fit imputer on data\n",
    "imp_median.fit(features_imp)\n",
    "# transform data\n",
    "features_imp = imp_median.transform(features_imp)\n",
    "# convert np array to dataframe\n",
    "features_imp = pd.DataFrame(features_imp)\n",
    "# rename columns \n",
    "features_imp.rename(columns={0: \"CPidx\", 1: \"Unemp_rate\"}, inplace=True)\n",
    "# concat the two dataframes \n",
    "features = pd.concat([features, features_imp], axis=1, ignore_index=False)\n",
    "# drop the old markdown columns\n",
    "features.drop(columns=[\"CPI\", \"Unemployment\"], inplace=True)\n",
    "# let's check the results\n",
    "features.info()"
   ]
  },
  {
   "cell_type": "markdown",
   "metadata": {},
   "source": [
    "**Imputing Median for missing values for the 5 Markdown features**"
   ]
  },
  {
   "cell_type": "code",
   "execution_count": 46,
   "metadata": {},
   "outputs": [],
   "source": [
    "# fill NaNs with 0 because the promotional markdown events happen throughout the year and precede prominent holiday\n",
    "# This means that they are not happening thoughout the year and hence will be set to 0 instead of getting dropped or imputed by \n",
    "# the mean or median etc.\n",
    "features[\"MarkDown1\"].fillna(value=0,inplace=True)\n",
    "features[\"MarkDown2\"].fillna(value=0,inplace=True)\n",
    "features[\"MarkDown3\"].fillna(value=0,inplace=True)\n",
    "features[\"MarkDown4\"].fillna(value=0,inplace=True)\n",
    "features[\"MarkDown5\"].fillna(value=0,inplace=True)"
   ]
  },
  {
   "cell_type": "markdown",
   "metadata": {},
   "source": [
    "Next, let's convert the feature **IsHoliday** to dummy."
   ]
  },
  {
   "cell_type": "code",
   "execution_count": 47,
   "metadata": {},
   "outputs": [],
   "source": [
    "features[\"IsHoliday\"] = features[\"IsHoliday\"].astype(int)"
   ]
  },
  {
   "cell_type": "markdown",
   "metadata": {},
   "source": [
    "# Merging the 2 datasets"
   ]
  },
  {
   "cell_type": "code",
   "execution_count": 48,
   "metadata": {},
   "outputs": [],
   "source": [
    "merge_1 = pd.merge(stores, features, on=\"Store\", how=\"outer\") "
   ]
  },
  {
   "cell_type": "code",
   "execution_count": 49,
   "metadata": {},
   "outputs": [
    {
     "data": {
      "text/html": [
       "<div>\n",
       "<style scoped>\n",
       "    .dataframe tbody tr th:only-of-type {\n",
       "        vertical-align: middle;\n",
       "    }\n",
       "\n",
       "    .dataframe tbody tr th {\n",
       "        vertical-align: top;\n",
       "    }\n",
       "\n",
       "    .dataframe thead th {\n",
       "        text-align: right;\n",
       "    }\n",
       "</style>\n",
       "<table border=\"1\" class=\"dataframe\">\n",
       "  <thead>\n",
       "    <tr style=\"text-align: right;\">\n",
       "      <th></th>\n",
       "      <th>Store</th>\n",
       "      <th>Type</th>\n",
       "      <th>Size</th>\n",
       "      <th>Date</th>\n",
       "      <th>Temperature</th>\n",
       "      <th>Fuel_Price</th>\n",
       "      <th>MarkDown1</th>\n",
       "      <th>MarkDown2</th>\n",
       "      <th>MarkDown3</th>\n",
       "      <th>MarkDown4</th>\n",
       "      <th>MarkDown5</th>\n",
       "      <th>IsHoliday</th>\n",
       "      <th>CPidx</th>\n",
       "      <th>Unemp_rate</th>\n",
       "    </tr>\n",
       "  </thead>\n",
       "  <tbody>\n",
       "    <tr>\n",
       "      <th>0</th>\n",
       "      <td>1</td>\n",
       "      <td>A</td>\n",
       "      <td>151315</td>\n",
       "      <td>2010-02-05</td>\n",
       "      <td>42.31</td>\n",
       "      <td>2.572</td>\n",
       "      <td>0.00</td>\n",
       "      <td>0.00</td>\n",
       "      <td>0.00</td>\n",
       "      <td>0.0</td>\n",
       "      <td>0.00</td>\n",
       "      <td>0</td>\n",
       "      <td>211.096358</td>\n",
       "      <td>8.106</td>\n",
       "    </tr>\n",
       "    <tr>\n",
       "      <th>5831</th>\n",
       "      <td>33</td>\n",
       "      <td>A</td>\n",
       "      <td>39690</td>\n",
       "      <td>2010-03-26</td>\n",
       "      <td>64.09</td>\n",
       "      <td>2.980</td>\n",
       "      <td>0.00</td>\n",
       "      <td>0.00</td>\n",
       "      <td>0.00</td>\n",
       "      <td>0.0</td>\n",
       "      <td>0.00</td>\n",
       "      <td>0</td>\n",
       "      <td>126.605064</td>\n",
       "      <td>10.115</td>\n",
       "    </tr>\n",
       "    <tr>\n",
       "      <th>5830</th>\n",
       "      <td>33</td>\n",
       "      <td>A</td>\n",
       "      <td>39690</td>\n",
       "      <td>2010-03-19</td>\n",
       "      <td>64.60</td>\n",
       "      <td>3.054</td>\n",
       "      <td>0.00</td>\n",
       "      <td>0.00</td>\n",
       "      <td>0.00</td>\n",
       "      <td>0.0</td>\n",
       "      <td>0.00</td>\n",
       "      <td>0</td>\n",
       "      <td>126.606645</td>\n",
       "      <td>10.115</td>\n",
       "    </tr>\n",
       "    <tr>\n",
       "      <th>5829</th>\n",
       "      <td>33</td>\n",
       "      <td>A</td>\n",
       "      <td>39690</td>\n",
       "      <td>2010-03-12</td>\n",
       "      <td>55.61</td>\n",
       "      <td>3.034</td>\n",
       "      <td>0.00</td>\n",
       "      <td>0.00</td>\n",
       "      <td>0.00</td>\n",
       "      <td>0.0</td>\n",
       "      <td>0.00</td>\n",
       "      <td>0</td>\n",
       "      <td>126.604286</td>\n",
       "      <td>10.115</td>\n",
       "    </tr>\n",
       "    <tr>\n",
       "      <th>5828</th>\n",
       "      <td>33</td>\n",
       "      <td>A</td>\n",
       "      <td>39690</td>\n",
       "      <td>2010-03-05</td>\n",
       "      <td>59.17</td>\n",
       "      <td>2.877</td>\n",
       "      <td>0.00</td>\n",
       "      <td>0.00</td>\n",
       "      <td>0.00</td>\n",
       "      <td>0.0</td>\n",
       "      <td>0.00</td>\n",
       "      <td>0</td>\n",
       "      <td>126.578286</td>\n",
       "      <td>10.115</td>\n",
       "    </tr>\n",
       "    <tr>\n",
       "      <th>...</th>\n",
       "      <td>...</td>\n",
       "      <td>...</td>\n",
       "      <td>...</td>\n",
       "      <td>...</td>\n",
       "      <td>...</td>\n",
       "      <td>...</td>\n",
       "      <td>...</td>\n",
       "      <td>...</td>\n",
       "      <td>...</td>\n",
       "      <td>...</td>\n",
       "      <td>...</td>\n",
       "      <td>...</td>\n",
       "      <td>...</td>\n",
       "      <td>...</td>\n",
       "    </tr>\n",
       "    <tr>\n",
       "      <th>6826</th>\n",
       "      <td>38</td>\n",
       "      <td>C</td>\n",
       "      <td>39690</td>\n",
       "      <td>2011-11-11</td>\n",
       "      <td>48.76</td>\n",
       "      <td>3.824</td>\n",
       "      <td>149.19</td>\n",
       "      <td>691.41</td>\n",
       "      <td>6.05</td>\n",
       "      <td>0.0</td>\n",
       "      <td>1571.53</td>\n",
       "      <td>0</td>\n",
       "      <td>129.816710</td>\n",
       "      <td>12.890</td>\n",
       "    </tr>\n",
       "    <tr>\n",
       "      <th>6827</th>\n",
       "      <td>38</td>\n",
       "      <td>C</td>\n",
       "      <td>39690</td>\n",
       "      <td>2011-11-18</td>\n",
       "      <td>54.20</td>\n",
       "      <td>3.813</td>\n",
       "      <td>27.61</td>\n",
       "      <td>8.22</td>\n",
       "      <td>1.32</td>\n",
       "      <td>0.0</td>\n",
       "      <td>2034.39</td>\n",
       "      <td>0</td>\n",
       "      <td>129.826833</td>\n",
       "      <td>12.890</td>\n",
       "    </tr>\n",
       "    <tr>\n",
       "      <th>6828</th>\n",
       "      <td>38</td>\n",
       "      <td>C</td>\n",
       "      <td>39690</td>\n",
       "      <td>2011-11-25</td>\n",
       "      <td>53.25</td>\n",
       "      <td>3.622</td>\n",
       "      <td>17.17</td>\n",
       "      <td>0.00</td>\n",
       "      <td>5.26</td>\n",
       "      <td>0.0</td>\n",
       "      <td>615.68</td>\n",
       "      <td>1</td>\n",
       "      <td>129.836400</td>\n",
       "      <td>12.890</td>\n",
       "    </tr>\n",
       "    <tr>\n",
       "      <th>7463</th>\n",
       "      <td>42</td>\n",
       "      <td>C</td>\n",
       "      <td>39690</td>\n",
       "      <td>2010-02-12</td>\n",
       "      <td>49.96</td>\n",
       "      <td>2.828</td>\n",
       "      <td>0.00</td>\n",
       "      <td>0.00</td>\n",
       "      <td>0.00</td>\n",
       "      <td>0.0</td>\n",
       "      <td>0.00</td>\n",
       "      <td>1</td>\n",
       "      <td>126.496258</td>\n",
       "      <td>9.765</td>\n",
       "    </tr>\n",
       "    <tr>\n",
       "      <th>6643</th>\n",
       "      <td>37</td>\n",
       "      <td>C</td>\n",
       "      <td>39910</td>\n",
       "      <td>2011-11-04</td>\n",
       "      <td>58.97</td>\n",
       "      <td>3.332</td>\n",
       "      <td>0.00</td>\n",
       "      <td>0.00</td>\n",
       "      <td>0.00</td>\n",
       "      <td>0.0</td>\n",
       "      <td>0.00</td>\n",
       "      <td>0</td>\n",
       "      <td>216.563434</td>\n",
       "      <td>7.716</td>\n",
       "    </tr>\n",
       "  </tbody>\n",
       "</table>\n",
       "<p>8190 rows × 14 columns</p>\n",
       "</div>"
      ],
      "text/plain": [
       "      Store Type    Size        Date  Temperature  Fuel_Price  MarkDown1  \\\n",
       "0         1    A  151315  2010-02-05        42.31       2.572       0.00   \n",
       "5831     33    A   39690  2010-03-26        64.09       2.980       0.00   \n",
       "5830     33    A   39690  2010-03-19        64.60       3.054       0.00   \n",
       "5829     33    A   39690  2010-03-12        55.61       3.034       0.00   \n",
       "5828     33    A   39690  2010-03-05        59.17       2.877       0.00   \n",
       "...     ...  ...     ...         ...          ...         ...        ...   \n",
       "6826     38    C   39690  2011-11-11        48.76       3.824     149.19   \n",
       "6827     38    C   39690  2011-11-18        54.20       3.813      27.61   \n",
       "6828     38    C   39690  2011-11-25        53.25       3.622      17.17   \n",
       "7463     42    C   39690  2010-02-12        49.96       2.828       0.00   \n",
       "6643     37    C   39910  2011-11-04        58.97       3.332       0.00   \n",
       "\n",
       "      MarkDown2  MarkDown3  MarkDown4  MarkDown5  IsHoliday       CPidx  \\\n",
       "0          0.00       0.00        0.0       0.00          0  211.096358   \n",
       "5831       0.00       0.00        0.0       0.00          0  126.605064   \n",
       "5830       0.00       0.00        0.0       0.00          0  126.606645   \n",
       "5829       0.00       0.00        0.0       0.00          0  126.604286   \n",
       "5828       0.00       0.00        0.0       0.00          0  126.578286   \n",
       "...         ...        ...        ...        ...        ...         ...   \n",
       "6826     691.41       6.05        0.0    1571.53          0  129.816710   \n",
       "6827       8.22       1.32        0.0    2034.39          0  129.826833   \n",
       "6828       0.00       5.26        0.0     615.68          1  129.836400   \n",
       "7463       0.00       0.00        0.0       0.00          1  126.496258   \n",
       "6643       0.00       0.00        0.0       0.00          0  216.563434   \n",
       "\n",
       "      Unemp_rate  \n",
       "0          8.106  \n",
       "5831      10.115  \n",
       "5830      10.115  \n",
       "5829      10.115  \n",
       "5828      10.115  \n",
       "...          ...  \n",
       "6826      12.890  \n",
       "6827      12.890  \n",
       "6828      12.890  \n",
       "7463       9.765  \n",
       "6643       7.716  \n",
       "\n",
       "[8190 rows x 14 columns]"
      ]
     },
     "execution_count": 49,
     "metadata": {},
     "output_type": "execute_result"
    }
   ],
   "source": [
    "# just a quick look if Store == Type or not - it's not\n",
    "merge_1.sort_values(\"Type\")"
   ]
  },
  {
   "cell_type": "markdown",
   "metadata": {},
   "source": [
    "# Merging this new dataset with Train Dataset"
   ]
  },
  {
   "cell_type": "markdown",
   "metadata": {},
   "source": [
    "**Train Dataset**\n",
    "\n",
    "This is the historical training data, which covers to 2010-02-05 to 2012-11-01. Within this file you will find the following fields:\n",
    "\n",
    "- Store - the store number\n",
    "- Dept - the department number\n",
    "- Date - the week\n",
    "- Weekly_Sales -  sales for the given department in the given store\n",
    "- IsHoliday - whether the week is a special holiday week"
   ]
  },
  {
   "cell_type": "code",
   "execution_count": 22,
   "metadata": {},
   "outputs": [
    {
     "name": "stdout",
     "output_type": "stream",
     "text": [
      "<class 'pandas.core.frame.DataFrame'>\n",
      "RangeIndex: 421570 entries, 0 to 421569\n",
      "Data columns (total 5 columns):\n",
      " #   Column        Non-Null Count   Dtype  \n",
      "---  ------        --------------   -----  \n",
      " 0   Store         421570 non-null  int64  \n",
      " 1   Dept          421570 non-null  int64  \n",
      " 2   Date          421570 non-null  object \n",
      " 3   Weekly_Sales  421570 non-null  float64\n",
      " 4   IsHoliday     421570 non-null  bool   \n",
      "dtypes: bool(1), float64(1), int64(2), object(1)\n",
      "memory usage: 13.3+ MB\n"
     ]
    }
   ],
   "source": [
    "train.info()"
   ]
  },
  {
   "cell_type": "markdown",
   "metadata": {},
   "source": [
    "We will join these on **Store** and **Date** to ensure the correct values for each store at each specific date."
   ]
  },
  {
   "cell_type": "code",
   "execution_count": 50,
   "metadata": {},
   "outputs": [],
   "source": [
    "df = pd.merge(train, merge_1, on=[\"Store\", \"Date\"], how=\"inner\")"
   ]
  },
  {
   "cell_type": "code",
   "execution_count": 51,
   "metadata": {},
   "outputs": [
    {
     "data": {
      "text/plain": [
       "True"
      ]
     },
     "execution_count": 51,
     "metadata": {},
     "output_type": "execute_result"
    }
   ],
   "source": [
    "# check if IsHoliday_x values are all in IsHoliday_y\n",
    "df[\"IsHoliday_x\"].isin(df[\"IsHoliday_y\"]).all()"
   ]
  },
  {
   "cell_type": "code",
   "execution_count": 52,
   "metadata": {},
   "outputs": [
    {
     "name": "stdout",
     "output_type": "stream",
     "text": [
      "<class 'pandas.core.frame.DataFrame'>\n",
      "Int64Index: 421570 entries, 0 to 421569\n",
      "Data columns (total 16 columns):\n",
      " #   Column        Non-Null Count   Dtype  \n",
      "---  ------        --------------   -----  \n",
      " 0   Store         421570 non-null  int64  \n",
      " 1   Dept          421570 non-null  int64  \n",
      " 2   Date          421570 non-null  object \n",
      " 3   Weekly_Sales  421570 non-null  float64\n",
      " 4   Type          421570 non-null  object \n",
      " 5   Size          421570 non-null  int64  \n",
      " 6   Temperature   421570 non-null  float64\n",
      " 7   Fuel_Price    421570 non-null  float64\n",
      " 8   MarkDown1     421570 non-null  float64\n",
      " 9   MarkDown2     421570 non-null  float64\n",
      " 10  MarkDown3     421570 non-null  float64\n",
      " 11  MarkDown4     421570 non-null  float64\n",
      " 12  MarkDown5     421570 non-null  float64\n",
      " 13  IsHoliday     421570 non-null  int32  \n",
      " 14  CPidx         421570 non-null  float64\n",
      " 15  Unemp_rate    421570 non-null  float64\n",
      "dtypes: float64(10), int32(1), int64(3), object(2)\n",
      "memory usage: 53.1+ MB\n"
     ]
    }
   ],
   "source": [
    "# let's drop IsHoliday_x and rename the remaining column\n",
    "df.drop(columns=\"IsHoliday_x\", inplace=True)\n",
    "df.rename(columns={\"IsHoliday_y\" : \"IsHoliday\"}, inplace=True)\n",
    "df.info()"
   ]
  },
  {
   "cell_type": "code",
   "execution_count": 53,
   "metadata": {},
   "outputs": [],
   "source": [
    "# Write csv file of the step2 data set \n",
    "df.to_csv(\"walmart.csv\")"
   ]
  },
  {
   "cell_type": "markdown",
   "metadata": {},
   "source": [
    "# 2) Exploratory Data Analysis (EDA)"
   ]
  },
  {
   "cell_type": "code",
   "execution_count": 37,
   "metadata": {},
   "outputs": [
    {
     "name": "stdout",
     "output_type": "stream",
     "text": [
      "<class 'pandas.core.frame.DataFrame'>\n",
      "RangeIndex: 421570 entries, 0 to 421569\n",
      "Data columns (total 16 columns):\n",
      " #   Column        Non-Null Count   Dtype  \n",
      "---  ------        --------------   -----  \n",
      " 0   Store         421570 non-null  int64  \n",
      " 1   Dept          421570 non-null  int64  \n",
      " 2   Date          421570 non-null  object \n",
      " 3   Weekly_Sales  421570 non-null  float64\n",
      " 4   Type          421570 non-null  object \n",
      " 5   Size          421570 non-null  int64  \n",
      " 6   Temperature   421570 non-null  float64\n",
      " 7   Fuel_Price    421570 non-null  float64\n",
      " 8   MarkDown1     421570 non-null  float64\n",
      " 9   MarkDown2     421570 non-null  float64\n",
      " 10  MarkDown3     421570 non-null  float64\n",
      " 11  MarkDown4     421570 non-null  float64\n",
      " 12  MarkDown5     421570 non-null  float64\n",
      " 13  IsHoliday     421570 non-null  int64  \n",
      " 14  CPidx         421570 non-null  float64\n",
      " 15  Unemp_rate    421570 non-null  float64\n",
      "dtypes: float64(10), int64(4), object(2)\n",
      "memory usage: 51.5+ MB\n"
     ]
    }
   ],
   "source": [
    "# load dataset\n",
    "df = pd.read_csv(\"walmart.csv\")\n",
    "# this column was added automatically presumably as index, let's drop it\n",
    "df.drop(columns=\"Unnamed: 0\", inplace=True)\n",
    "df.info()"
   ]
  },
  {
   "cell_type": "markdown",
   "metadata": {},
   "source": [
    "## 1. Summary Statistics"
   ]
  },
  {
   "cell_type": "code",
   "execution_count": 55,
   "metadata": {},
   "outputs": [
    {
     "data": {
      "text/html": [
       "<div>\n",
       "<style scoped>\n",
       "    .dataframe tbody tr th:only-of-type {\n",
       "        vertical-align: middle;\n",
       "    }\n",
       "\n",
       "    .dataframe tbody tr th {\n",
       "        vertical-align: top;\n",
       "    }\n",
       "\n",
       "    .dataframe thead th {\n",
       "        text-align: right;\n",
       "    }\n",
       "</style>\n",
       "<table border=\"1\" class=\"dataframe\">\n",
       "  <thead>\n",
       "    <tr style=\"text-align: right;\">\n",
       "      <th></th>\n",
       "      <th>Store</th>\n",
       "      <th>Dept</th>\n",
       "      <th>Weekly_Sales</th>\n",
       "      <th>Size</th>\n",
       "      <th>Temperature</th>\n",
       "      <th>Fuel_Price</th>\n",
       "      <th>MarkDown1</th>\n",
       "      <th>MarkDown2</th>\n",
       "      <th>MarkDown3</th>\n",
       "      <th>MarkDown4</th>\n",
       "      <th>MarkDown5</th>\n",
       "      <th>IsHoliday</th>\n",
       "      <th>CPidx</th>\n",
       "      <th>Unemp_rate</th>\n",
       "    </tr>\n",
       "  </thead>\n",
       "  <tbody>\n",
       "    <tr>\n",
       "      <th>count</th>\n",
       "      <td>421570.000000</td>\n",
       "      <td>421570.000000</td>\n",
       "      <td>421570.000000</td>\n",
       "      <td>421570.000000</td>\n",
       "      <td>421570.000000</td>\n",
       "      <td>421570.000000</td>\n",
       "      <td>421570.000000</td>\n",
       "      <td>421570.000000</td>\n",
       "      <td>421570.000000</td>\n",
       "      <td>421570.000000</td>\n",
       "      <td>421570.000000</td>\n",
       "      <td>421570.000000</td>\n",
       "      <td>421570.000000</td>\n",
       "      <td>421570.000000</td>\n",
       "    </tr>\n",
       "    <tr>\n",
       "      <th>mean</th>\n",
       "      <td>22.200546</td>\n",
       "      <td>44.260317</td>\n",
       "      <td>15981.258123</td>\n",
       "      <td>136727.915739</td>\n",
       "      <td>60.090059</td>\n",
       "      <td>3.361027</td>\n",
       "      <td>2590.074819</td>\n",
       "      <td>879.974298</td>\n",
       "      <td>468.087665</td>\n",
       "      <td>1083.132268</td>\n",
       "      <td>1662.772385</td>\n",
       "      <td>0.070358</td>\n",
       "      <td>171.201947</td>\n",
       "      <td>7.960289</td>\n",
       "    </tr>\n",
       "    <tr>\n",
       "      <th>std</th>\n",
       "      <td>12.785297</td>\n",
       "      <td>30.492054</td>\n",
       "      <td>22711.183519</td>\n",
       "      <td>60980.583328</td>\n",
       "      <td>18.447931</td>\n",
       "      <td>0.458515</td>\n",
       "      <td>6052.385934</td>\n",
       "      <td>5084.538801</td>\n",
       "      <td>5528.873453</td>\n",
       "      <td>3894.529945</td>\n",
       "      <td>4207.629321</td>\n",
       "      <td>0.255750</td>\n",
       "      <td>39.159276</td>\n",
       "      <td>1.863296</td>\n",
       "    </tr>\n",
       "    <tr>\n",
       "      <th>min</th>\n",
       "      <td>1.000000</td>\n",
       "      <td>1.000000</td>\n",
       "      <td>-4988.940000</td>\n",
       "      <td>34875.000000</td>\n",
       "      <td>-2.060000</td>\n",
       "      <td>2.472000</td>\n",
       "      <td>0.000000</td>\n",
       "      <td>-265.760000</td>\n",
       "      <td>-29.100000</td>\n",
       "      <td>0.000000</td>\n",
       "      <td>0.000000</td>\n",
       "      <td>0.000000</td>\n",
       "      <td>126.064000</td>\n",
       "      <td>3.879000</td>\n",
       "    </tr>\n",
       "    <tr>\n",
       "      <th>25%</th>\n",
       "      <td>11.000000</td>\n",
       "      <td>18.000000</td>\n",
       "      <td>2079.650000</td>\n",
       "      <td>93638.000000</td>\n",
       "      <td>46.680000</td>\n",
       "      <td>2.933000</td>\n",
       "      <td>0.000000</td>\n",
       "      <td>0.000000</td>\n",
       "      <td>0.000000</td>\n",
       "      <td>0.000000</td>\n",
       "      <td>0.000000</td>\n",
       "      <td>0.000000</td>\n",
       "      <td>132.022667</td>\n",
       "      <td>6.891000</td>\n",
       "    </tr>\n",
       "    <tr>\n",
       "      <th>50%</th>\n",
       "      <td>22.000000</td>\n",
       "      <td>37.000000</td>\n",
       "      <td>7612.030000</td>\n",
       "      <td>140167.000000</td>\n",
       "      <td>62.090000</td>\n",
       "      <td>3.452000</td>\n",
       "      <td>0.000000</td>\n",
       "      <td>0.000000</td>\n",
       "      <td>0.000000</td>\n",
       "      <td>0.000000</td>\n",
       "      <td>0.000000</td>\n",
       "      <td>0.000000</td>\n",
       "      <td>182.318780</td>\n",
       "      <td>7.866000</td>\n",
       "    </tr>\n",
       "    <tr>\n",
       "      <th>75%</th>\n",
       "      <td>33.000000</td>\n",
       "      <td>74.000000</td>\n",
       "      <td>20205.852500</td>\n",
       "      <td>202505.000000</td>\n",
       "      <td>74.280000</td>\n",
       "      <td>3.738000</td>\n",
       "      <td>2809.050000</td>\n",
       "      <td>2.200000</td>\n",
       "      <td>4.540000</td>\n",
       "      <td>425.290000</td>\n",
       "      <td>2168.040000</td>\n",
       "      <td>0.000000</td>\n",
       "      <td>212.416993</td>\n",
       "      <td>8.572000</td>\n",
       "    </tr>\n",
       "    <tr>\n",
       "      <th>max</th>\n",
       "      <td>45.000000</td>\n",
       "      <td>99.000000</td>\n",
       "      <td>693099.360000</td>\n",
       "      <td>219622.000000</td>\n",
       "      <td>100.140000</td>\n",
       "      <td>4.468000</td>\n",
       "      <td>88646.760000</td>\n",
       "      <td>104519.540000</td>\n",
       "      <td>141630.610000</td>\n",
       "      <td>67474.850000</td>\n",
       "      <td>108519.280000</td>\n",
       "      <td>1.000000</td>\n",
       "      <td>227.232807</td>\n",
       "      <td>14.313000</td>\n",
       "    </tr>\n",
       "  </tbody>\n",
       "</table>\n",
       "</div>"
      ],
      "text/plain": [
       "               Store           Dept   Weekly_Sales           Size  \\\n",
       "count  421570.000000  421570.000000  421570.000000  421570.000000   \n",
       "mean       22.200546      44.260317   15981.258123  136727.915739   \n",
       "std        12.785297      30.492054   22711.183519   60980.583328   \n",
       "min         1.000000       1.000000   -4988.940000   34875.000000   \n",
       "25%        11.000000      18.000000    2079.650000   93638.000000   \n",
       "50%        22.000000      37.000000    7612.030000  140167.000000   \n",
       "75%        33.000000      74.000000   20205.852500  202505.000000   \n",
       "max        45.000000      99.000000  693099.360000  219622.000000   \n",
       "\n",
       "         Temperature     Fuel_Price      MarkDown1      MarkDown2  \\\n",
       "count  421570.000000  421570.000000  421570.000000  421570.000000   \n",
       "mean       60.090059       3.361027    2590.074819     879.974298   \n",
       "std        18.447931       0.458515    6052.385934    5084.538801   \n",
       "min        -2.060000       2.472000       0.000000    -265.760000   \n",
       "25%        46.680000       2.933000       0.000000       0.000000   \n",
       "50%        62.090000       3.452000       0.000000       0.000000   \n",
       "75%        74.280000       3.738000    2809.050000       2.200000   \n",
       "max       100.140000       4.468000   88646.760000  104519.540000   \n",
       "\n",
       "           MarkDown3      MarkDown4      MarkDown5      IsHoliday  \\\n",
       "count  421570.000000  421570.000000  421570.000000  421570.000000   \n",
       "mean      468.087665    1083.132268    1662.772385       0.070358   \n",
       "std      5528.873453    3894.529945    4207.629321       0.255750   \n",
       "min       -29.100000       0.000000       0.000000       0.000000   \n",
       "25%         0.000000       0.000000       0.000000       0.000000   \n",
       "50%         0.000000       0.000000       0.000000       0.000000   \n",
       "75%         4.540000     425.290000    2168.040000       0.000000   \n",
       "max    141630.610000   67474.850000  108519.280000       1.000000   \n",
       "\n",
       "               CPidx     Unemp_rate  \n",
       "count  421570.000000  421570.000000  \n",
       "mean      171.201947       7.960289  \n",
       "std        39.159276       1.863296  \n",
       "min       126.064000       3.879000  \n",
       "25%       132.022667       6.891000  \n",
       "50%       182.318780       7.866000  \n",
       "75%       212.416993       8.572000  \n",
       "max       227.232807      14.313000  "
      ]
     },
     "execution_count": 55,
     "metadata": {},
     "output_type": "execute_result"
    }
   ],
   "source": [
    "df.describe()"
   ]
  },
  {
   "cell_type": "markdown",
   "metadata": {},
   "source": [
    "## 2. Univariate Analysis"
   ]
  },
  {
   "cell_type": "markdown",
   "metadata": {},
   "source": [
    "**Weekly Sales** has been identified as the response variable for this project."
   ]
  },
  {
   "cell_type": "code",
   "execution_count": 56,
   "metadata": {},
   "outputs": [
    {
     "data": {
      "text/plain": [
       "<matplotlib.axes._subplots.AxesSubplot at 0x1fb6a8efd88>"
      ]
     },
     "execution_count": 56,
     "metadata": {},
     "output_type": "execute_result"
    },
    {
     "data": {
      "image/png": "[encoded data removed]",
      "text/plain": [
       "<Figure size 432x288 with 1 Axes>"
      ]
     },
     "metadata": {},
     "output_type": "display_data"
    }
   ],
   "source": [
    "sns.set_style('darkgrid') # set style\n",
    "plt.title(\"Weekly Sales in $\", size=20)\n",
    "sns.distplot(df[\"Weekly_Sales\"], kde=False, bins=60)"
   ]
  },
  {
   "cell_type": "code",
   "execution_count": 57,
   "metadata": {},
   "outputs": [
    {
     "name": "stdout",
     "output_type": "stream",
     "text": [
      "Median: 7612.03\n",
      "Mean: 15981\n",
      "Max: 693099\n"
     ]
    }
   ],
   "source": [
    "print(\"Median: {}\".format(df[\"Weekly_Sales\"].median()))\n",
    "print(\"Mean: {}\".format(round(df[\"Weekly_Sales\"].mean())))\n",
    "print(\"Max: {}\".format(round(df[\"Weekly_Sales\"].max())))"
   ]
  },
  {
   "cell_type": "markdown",
   "metadata": {},
   "source": [
    "It seems we have a few outliers in the dataset which generated very high sales. Let's take a closer look at the data by omitting any values above 100,000 USD."
   ]
  },
  {
   "cell_type": "code",
   "execution_count": 58,
   "metadata": {},
   "outputs": [
    {
     "data": {
      "text/plain": [
       "<matplotlib.axes._subplots.AxesSubplot at 0x1fb6d33ae08>"
      ]
     },
     "execution_count": 58,
     "metadata": {},
     "output_type": "execute_result"
    },
    {
     "data": {
      "image/png": "[encoded data removed]",
      "text/plain": [
       "<Figure size 432x288 with 1 Axes>"
      ]
     },
     "metadata": {},
     "output_type": "display_data"
    }
   ],
   "source": [
    "x = df[\"Weekly_Sales\"][df.Weekly_Sales < 100000]\n",
    "sns.set_style('darkgrid') # set style\n",
    "plt.title(\"Weekly Sales below $100,000\", size=20)\n",
    "sns.distplot(x, kde=False, bins=10)"
   ]
  },
  {
   "cell_type": "markdown",
   "metadata": {},
   "source": [
    "It looks like the majority of weekly sales values lie roughly between 0 and 30,000 USD. Let's take a brief look at the weekly sales losses."
   ]
  },
  {
   "cell_type": "code",
   "execution_count": 59,
   "metadata": {},
   "outputs": [
    {
     "data": {
      "text/plain": [
       "<matplotlib.axes._subplots.AxesSubplot at 0x1fb6d405bc8>"
      ]
     },
     "execution_count": 59,
     "metadata": {},
     "output_type": "execute_result"
    },
    {
     "data": {
      "image/png": "[encoded data removed]",
      "text/plain": [
       "<Figure size 432x288 with 1 Axes>"
      ]
     },
     "metadata": {},
     "output_type": "display_data"
    }
   ],
   "source": [
    "y = df[\"Weekly_Sales\"][df.Weekly_Sales < 0]\n",
    "sns.set_style('darkgrid') # set style\n",
    "plt.title(\"Weekly Sales Losses in $\", size=20)\n",
    "sns.distplot(y, kde=False, bins=10)"
   ]
  },
  {
   "cell_type": "code",
   "execution_count": 60,
   "metadata": {},
   "outputs": [
    {
     "name": "stdout",
     "output_type": "stream",
     "text": [
      "The majorty of losses are between 0 and -1,000 USD with the largest loss of -4988.94 USD\n"
     ]
    }
   ],
   "source": [
    "print(\"The majorty of losses are between 0 and -1,000 USD with the largest loss of {} USD\".format(y.min()))"
   ]
  },
  {
   "cell_type": "markdown",
   "metadata": {},
   "source": [
    "Therefore, overall, Walmart appears to be quite profitable in the period documented in our dataset."
   ]
  },
  {
   "cell_type": "markdown",
   "metadata": {},
   "source": [
    "## 3. Bivariate Analysis"
   ]
  },
  {
   "cell_type": "markdown",
   "metadata": {},
   "source": [
    "**Weekly Sales by Date**"
   ]
  },
  {
   "cell_type": "code",
   "execution_count": 4,
   "metadata": {},
   "outputs": [],
   "source": [
    "# convert Date from object to datetime\n",
    "df[\"Date\"] = pd.to_datetime(df[\"Date\"])"
   ]
  },
  {
   "cell_type": "code",
   "execution_count": 32,
   "metadata": {},
   "outputs": [
    {
     "data": {
      "text/plain": [
       "<matplotlib.axes._subplots.AxesSubplot at 0x175b8e30e08>"
      ]
     },
     "execution_count": 32,
     "metadata": {},
     "output_type": "execute_result"
    },
    {
     "data": {
      "image/png": "[encoded data removed]",
      "text/plain": [
       "<Figure size 864x432 with 1 Axes>"
      ]
     },
     "metadata": {},
     "output_type": "display_data"
    }
   ],
   "source": [
    "sns.set_style('darkgrid') # set style\n",
    "plt.figure(figsize=(12,6))\n",
    "sns.lineplot(x=\"Date\",y=\"Weekly_Sales\", data=df)"
   ]
  },
  {
   "cell_type": "markdown",
   "metadata": {},
   "source": [
    "**Weekly Sales by Year**"
   ]
  },
  {
   "cell_type": "code",
   "execution_count": 37,
   "metadata": {},
   "outputs": [
    {
     "data": {
      "text/plain": [
       "<matplotlib.axes._subplots.AxesSubplot at 0x175b8ffe948>"
      ]
     },
     "execution_count": 37,
     "metadata": {},
     "output_type": "execute_result"
    },
    {
     "data": {
      "image/png": "[encoded data removed]",
      "text/plain": [
       "<Figure size 864x432 with 1 Axes>"
      ]
     },
     "metadata": {},
     "output_type": "display_data"
    }
   ],
   "source": [
    "# extract year from the Date feature\n",
    "df[\"year\"] = df[\"Date\"].dt.year\n",
    "\n",
    "# plot lineplot by year\n",
    "sns.set_style('darkgrid') # set style\n",
    "plt.figure(figsize=(12,6))\n",
    "sns.lineplot(x=\"year\",y=\"Weekly_Sales\", data=df)"
   ]
  },
  {
   "cell_type": "markdown",
   "metadata": {},
   "source": [
    "**Weekly Sales by Month**"
   ]
  },
  {
   "cell_type": "code",
   "execution_count": 38,
   "metadata": {},
   "outputs": [
    {
     "data": {
      "text/plain": [
       "<matplotlib.axes._subplots.AxesSubplot at 0x175b943d608>"
      ]
     },
     "execution_count": 38,
     "metadata": {},
     "output_type": "execute_result"
    },
    {
     "data": {
      "image/png": "[encoded data removed]",
      "text/plain": [
       "<Figure size 864x432 with 1 Axes>"
      ]
     },
     "metadata": {},
     "output_type": "display_data"
    }
   ],
   "source": [
    "# extract month from the Date feature\n",
    "df[\"month\"] = df[\"Date\"].dt.month\n",
    "\n",
    "# plot lineplot by month\n",
    "sns.set_style('darkgrid') # set style\n",
    "plt.figure(figsize=(12,6))\n",
    "sns.lineplot(x=\"month\",y=\"Weekly_Sales\", data=df)"
   ]
  },
  {
   "cell_type": "markdown",
   "metadata": {},
   "source": [
    "In the visualizations depicted above, we can observe that overall **weekly sales** decreased slightly over time. Towards the end of the year, sales increase significantly while in January weekly sales are the lowest. Presumably, the increase in sales is linked to the holiday period during the end of each year.\n",
    "\n",
    "When looking at the first plot, we can observe multiple dates with very large **weekly sales** values. Let's see if we can figure out the exact dates and verify our hypothesis. For convenience, the holiday dates are listed below."
   ]
  },
  {
   "cell_type": "markdown",
   "metadata": {},
   "source": [
    "**Holidays** \n",
    "\n",
    "- Super Bowl: 12-Feb-10, 11-Feb-11, 10-Feb-12, 8-Feb-13\n",
    "- Labor Day: 10-Sep-10, 9-Sep-11, 7-Sep-12, 6-Sep-13\n",
    "- Thanksgiving: 26-Nov-10, 25-Nov-11, 23-Nov-12, 29-Nov-13\n",
    "- Christmas: 31-Dec-10, 30-Dec-11, 28-Dec-12, 27-Dec-13\n",
    "\n",
    "As we can see the highest weekly sales were generated on Thanksgiving holiday 2010."
   ]
  },
  {
   "cell_type": "code",
   "execution_count": 69,
   "metadata": {},
   "outputs": [
    {
     "data": {
      "text/plain": [
       "90645     693099.36\n",
       "337053    649770.18\n",
       "94393     630999.19\n",
       "333594    627962.93\n",
       "131088    474330.10\n",
       "Name: Weekly_Sales, dtype: float64"
      ]
     },
     "execution_count": 69,
     "metadata": {},
     "output_type": "execute_result"
    }
   ],
   "source": [
    "df['Weekly_Sales'].nlargest(5)"
   ]
  },
  {
   "cell_type": "code",
   "execution_count": 38,
   "metadata": {},
   "outputs": [
    {
     "name": "stdout",
     "output_type": "stream",
     "text": [
      "Highest Weekly Sales Date: 90645    2010-11-26\n",
      "Name: Date, dtype: object\n",
      "2nd Highest Weekly Sales Date: 337053    2011-11-25\n",
      "Name: Date, dtype: object\n",
      "3rd Highest Weekly Sales Date: 94393    2011-11-25\n",
      "Name: Date, dtype: object\n",
      "4th Highest Weekly Sales Date: 333594    2010-11-26\n",
      "Name: Date, dtype: object\n",
      "5th Highest Weekly Sales Date: 131088    2010-11-26\n",
      "Name: Date, dtype: object\n",
      "6th Weekly Sales Date: 90645    2010-11-26\n",
      "Name: Date, dtype: object\n",
      "7th Highest Weekly Sales Date: 337053    2011-11-25\n",
      "Name: Date, dtype: object\n",
      "8th Highest Weekly Sales Date: 94393    2011-11-25\n",
      "Name: Date, dtype: object\n",
      "9th Highest Weekly Sales Date: 333594    2010-11-26\n",
      "Name: Date, dtype: object\n",
      "10th Highest Weekly Sales Date: 131088    2010-11-26\n",
      "Name: Date, dtype: object\n"
     ]
    }
   ],
   "source": [
    "print(\"Highest Weekly Sales Date: {}\".format(df.loc[df['Weekly_Sales'] == df[\"Weekly_Sales\"].max(), 'Date']))\n",
    "print(\"2nd Highest Weekly Sales Date: {}\".format(df.loc[df['Weekly_Sales'] == df[\"Weekly_Sales\"][337053], 'Date']))\n",
    "print(\"3rd Highest Weekly Sales Date: {}\".format(df.loc[df['Weekly_Sales'] == df[\"Weekly_Sales\"][94393], 'Date']))\n",
    "print(\"4th Highest Weekly Sales Date: {}\".format(df.loc[df['Weekly_Sales'] == df[\"Weekly_Sales\"][333594], 'Date']))\n",
    "print(\"5th Highest Weekly Sales Date: {}\".format(df.loc[df['Weekly_Sales'] == df[\"Weekly_Sales\"][131088], 'Date']))\n",
    "print(\"6th Weekly Sales Date: {}\".format(df.loc[df['Weekly_Sales'] == df[\"Weekly_Sales\"].max(), 'Date']))\n",
    "print(\"7th Highest Weekly Sales Date: {}\".format(df.loc[df['Weekly_Sales'] == df[\"Weekly_Sales\"][337053], 'Date']))\n",
    "print(\"8th Highest Weekly Sales Date: {}\".format(df.loc[df['Weekly_Sales'] == df[\"Weekly_Sales\"][94393], 'Date']))\n",
    "print(\"9th Highest Weekly Sales Date: {}\".format(df.loc[df['Weekly_Sales'] == df[\"Weekly_Sales\"][333594], 'Date']))\n",
    "print(\"10th Highest Weekly Sales Date: {}\".format(df.loc[df['Weekly_Sales'] == df[\"Weekly_Sales\"][131088], 'Date']))"
   ]
  },
  {
   "cell_type": "markdown",
   "metadata": {},
   "source": [
    "From the analysis above, we can infer that the highest weekly sales were all generated during Thanksgiving holiday.This seems to be the most profitable holiday for Walmart.  "
   ]
  },
  {
   "cell_type": "markdown",
   "metadata": {},
   "source": [
    "**Weekly Sales and Holidays**"
   ]
  },
  {
   "cell_type": "code",
   "execution_count": 47,
   "metadata": {},
   "outputs": [
    {
     "data": {
      "text/plain": [
       "(-5000, 60000)"
      ]
     },
     "execution_count": 47,
     "metadata": {},
     "output_type": "execute_result"
    },
    {
     "data": {
      "image/png": "[encoded data removed]",
      "text/plain": [
       "<Figure size 432x288 with 1 Axes>"
      ]
     },
     "metadata": {},
     "output_type": "display_data"
    }
   ],
   "source": [
    "sns.set_style('darkgrid') # set style\n",
    "g=sns.boxplot(x=\"IsHoliday\", y=\"Weekly_Sales\", data=df)\n",
    "g.set_ylim(bottom=-5000, top=60000)"
   ]
  },
  {
   "cell_type": "markdown",
   "metadata": {},
   "source": [
    "In the boxplot depicted above, we can observe that during holidays, weekly sales are slightly higher than during regular days."
   ]
  },
  {
   "cell_type": "markdown",
   "metadata": {},
   "source": [
    "**Weekly Sales and Temperature**"
   ]
  },
  {
   "cell_type": "code",
   "execution_count": 46,
   "metadata": {},
   "outputs": [
    {
     "data": {
      "text/plain": [
       "<matplotlib.axes._subplots.AxesSubplot at 0x21e6dc90c88>"
      ]
     },
     "execution_count": 46,
     "metadata": {},
     "output_type": "execute_result"
    },
    {
     "data": {
      "image/png": "[encoded data removed]",
      "text/plain": [
       "<Figure size 432x288 with 1 Axes>"
      ]
     },
     "metadata": {},
     "output_type": "display_data"
    }
   ],
   "source": [
    "sns.set_style('darkgrid') # set style\n",
    "sns.scatterplot(x=\"Temperature\", y=\"Weekly_Sales\", data=df)"
   ]
  },
  {
   "cell_type": "markdown",
   "metadata": {},
   "source": [
    "It appears that the temperature has an impact on Weekly Sales. Weekly Sales are higher on days where the temperature is between 25 and 75 degrees fahrenheit. If the temperature is too warm or too cold consumers might not want to go out to shop due to the unpleasant temperatures."
   ]
  },
  {
   "cell_type": "markdown",
   "metadata": {},
   "source": [
    "**Weekly Sales and Store Type**"
   ]
  },
  {
   "cell_type": "code",
   "execution_count": 93,
   "metadata": {},
   "outputs": [
    {
     "data": {
      "text/plain": [
       "(-5000, 100000)"
      ]
     },
     "execution_count": 93,
     "metadata": {},
     "output_type": "execute_result"
    },
    {
     "data": {
      "image/png": "[encoded data removed]",
      "text/plain": [
       "<Figure size 432x288 with 1 Axes>"
      ]
     },
     "metadata": {},
     "output_type": "display_data"
    }
   ],
   "source": [
    "sns.set_style('darkgrid') # set style\n",
    "g=sns.boxplot(x=\"Type\", y=\"Weekly_Sales\", data=df)\n",
    "g.set_ylim(bottom=-5000, top=100000)"
   ]
  },
  {
   "cell_type": "markdown",
   "metadata": {},
   "source": [
    "We can observe similar findings as for Weekly Sales and Holidays. Let's see how it looks after removing these unusally high sales."
   ]
  },
  {
   "cell_type": "markdown",
   "metadata": {},
   "source": [
    "We can see that store **type A** generated the highest weekly sales followed by store **type B**. Store **type C** generated the lowest sales. "
   ]
  },
  {
   "cell_type": "code",
   "execution_count": 85,
   "metadata": {},
   "outputs": [
    {
     "data": {
      "text/plain": [
       "<matplotlib.axes._subplots.AxesSubplot at 0x21e00f85a88>"
      ]
     },
     "execution_count": 85,
     "metadata": {},
     "output_type": "execute_result"
    },
    {
     "data": {
      "image/png": "[encoded data removed]",
      "text/plain": [
       "<Figure size 432x288 with 1 Axes>"
      ]
     },
     "metadata": {},
     "output_type": "display_data"
    }
   ],
   "source": [
    "sns.countplot(x=\"Type\", data=df, color=\"blue\", alpha=0.75)"
   ]
  },
  {
   "cell_type": "markdown",
   "metadata": {},
   "source": [
    "However, as we can see, Store Type A has the most stores in the country, followed by store type B. This could explain why these store types generate more sales."
   ]
  },
  {
   "cell_type": "code",
   "execution_count": 86,
   "metadata": {},
   "outputs": [
    {
     "data": {
      "text/plain": [
       "<matplotlib.axes._subplots.AxesSubplot at 0x21e00f81d08>"
      ]
     },
     "execution_count": 86,
     "metadata": {},
     "output_type": "execute_result"
    },
    {
     "data": {
      "image/png": "[encoded data removed]",
      "text/plain": [
       "<Figure size 432x288 with 1 Axes>"
      ]
     },
     "metadata": {},
     "output_type": "display_data"
    }
   ],
   "source": [
    "sns.boxplot(x=\"Type\", y=\"Size\",data=df)"
   ]
  },
  {
   "cell_type": "markdown",
   "metadata": {},
   "source": [
    "Now we can see that there are not only more stores of types A and B but they are also much larger in terms of size. Hence we can infer that larger stores also generate larger weekly sales."
   ]
  },
  {
   "cell_type": "markdown",
   "metadata": {},
   "source": [
    "**Weekly Sales and Department Store Number**"
   ]
  },
  {
   "cell_type": "code",
   "execution_count": 52,
   "metadata": {},
   "outputs": [
    {
     "data": {
      "text/plain": [
       "Text(0.5, 1.0, 'Weekly Sales per Department')"
      ]
     },
     "execution_count": 52,
     "metadata": {},
     "output_type": "execute_result"
    },
    {
     "data": {
      "image/png": "[encoded data removed]",
      "text/plain": [
       "<Figure size 720x432 with 1 Axes>"
      ]
     },
     "metadata": {},
     "output_type": "display_data"
    }
   ],
   "source": [
    "plt.figure(figsize=(10,6))\n",
    "g=sns.scatterplot(x=\"Dept\", y=\"Weekly_Sales\", data=df)\n",
    "g.set_title(\"Weekly Sales per Department\", size=15)"
   ]
  },
  {
   "cell_type": "code",
   "execution_count": 34,
   "metadata": {},
   "outputs": [
    {
     "name": "stdout",
     "output_type": "stream",
     "text": [
      "Department with Highest Weekly Sales: 90645    72\n",
      "Name: Dept, dtype: int64\n",
      "Department with 2nd Highest Weekly Sales: 337053    72\n",
      "Name: Dept, dtype: int64\n",
      "Department with 3rd Highest Weekly Sales: 94393    72\n",
      "Name: Dept, dtype: int64\n",
      "Department with 4th Highest Weekly Sales: 333594    72\n",
      "Name: Dept, dtype: int64\n",
      "Department with 5th Highest Weekly Sales: 131088    72\n",
      "Name: Dept, dtype: int64\n",
      "Department with 6th Highest Weekly Sales: 190370    72\n",
      "Name: Dept, dtype: int64\n",
      "Department with 7th Highest Weekly Sales: 259799    72\n",
      "Name: Dept, dtype: int64\n",
      "Department with 8th Highest Weekly Sales: 90886    7\n",
      "Name: Dept, dtype: int64\n",
      "Department with 9th Highest Weekly Sales: 90936    72\n",
      "Name: Dept, dtype: int64\n",
      "Department with 10th Highest Weekly Sales: 210037    72\n",
      "Name: Dept, dtype: int64\n"
     ]
    }
   ],
   "source": [
    "# Let's examine the top 10 departments with the highest weekly sales\n",
    "print(\"Department with Highest Weekly Sales: {}\".format(df.loc[df['Weekly_Sales'] == df[\"Weekly_Sales\"][90645], 'Dept']))\n",
    "print(\"Department with 2nd Highest Weekly Sales: {}\".format(df.loc[df['Weekly_Sales'] == df[\"Weekly_Sales\"][337053], 'Dept']))\n",
    "print(\"Department with 3rd Highest Weekly Sales: {}\".format(df.loc[df['Weekly_Sales'] == df[\"Weekly_Sales\"][94393], 'Dept']))\n",
    "print(\"Department with 4th Highest Weekly Sales: {}\".format(df.loc[df['Weekly_Sales'] == df[\"Weekly_Sales\"][333594], 'Dept']))\n",
    "print(\"Department with 5th Highest Weekly Sales: {}\".format(df.loc[df['Weekly_Sales'] == df[\"Weekly_Sales\"][131088], 'Dept']))\n",
    "print(\"Department with 6th Highest Weekly Sales: {}\".format(df.loc[df['Weekly_Sales'] == df[\"Weekly_Sales\"][190370], 'Dept']))\n",
    "print(\"Department with 7th Highest Weekly Sales: {}\".format(df.loc[df['Weekly_Sales'] == df[\"Weekly_Sales\"][259799], 'Dept']))\n",
    "print(\"Department with 8th Highest Weekly Sales: {}\".format(df.loc[df['Weekly_Sales'] == df[\"Weekly_Sales\"][90886], 'Dept']))\n",
    "print(\"Department with 9th Highest Weekly Sales: {}\".format(df.loc[df['Weekly_Sales'] == df[\"Weekly_Sales\"][90936], 'Dept']))\n",
    "print(\"Department with 10th Highest Weekly Sales: {}\".format(df.loc[df['Weekly_Sales'] == df[\"Weekly_Sales\"][210037], 'Dept']))"
   ]
  },
  {
   "cell_type": "markdown",
   "metadata": {},
   "source": [
    "This is a very interesting finding. Based on the analysis above, we can observe that department 72 generated the 9 of the top 10 highest weekly sales and is therefore the top performing department. Department 7 generated the 8th highest weekly sales on one day. "
   ]
  },
  {
   "cell_type": "markdown",
   "metadata": {},
   "source": [
    "**Weekly Sales and Unemployment**"
   ]
  },
  {
   "cell_type": "code",
   "execution_count": 55,
   "metadata": {},
   "outputs": [
    {
     "data": {
      "text/plain": [
       "<matplotlib.axes._subplots.AxesSubplot at 0x21e66971f08>"
      ]
     },
     "execution_count": 55,
     "metadata": {},
     "output_type": "execute_result"
    },
    {
     "data": {
      "image/png": "[encoded data removed]",
      "text/plain": [
       "<Figure size 432x288 with 1 Axes>"
      ]
     },
     "metadata": {},
     "output_type": "display_data"
    }
   ],
   "source": [
    "sns.scatterplot(x=\"Unemp_rate\",y=\"Weekly_Sales\", data=df)"
   ]
  },
  {
   "cell_type": "markdown",
   "metadata": {},
   "source": [
    "As anticipated, weekly sales are high when unemployment is low due to consumers having more spending power. Inversely, when the unemployment rate increases, weekly sales decline due to consumers not having money to spend."
   ]
  },
  {
   "cell_type": "markdown",
   "metadata": {},
   "source": [
    "**Weekly Sales and Fuel Price**"
   ]
  },
  {
   "cell_type": "code",
   "execution_count": 57,
   "metadata": {},
   "outputs": [
    {
     "data": {
      "text/plain": [
       "<matplotlib.axes._subplots.AxesSubplot at 0x21e6760f888>"
      ]
     },
     "execution_count": 57,
     "metadata": {},
     "output_type": "execute_result"
    },
    {
     "data": {
      "image/png": "[encoded data removed]",
      "text/plain": [
       "<Figure size 432x288 with 1 Axes>"
      ]
     },
     "metadata": {},
     "output_type": "display_data"
    }
   ],
   "source": [
    "sns.scatterplot(x=\"Fuel_Price\", y=\"Weekly_Sales\", data=df)"
   ]
  },
  {
   "cell_type": "markdown",
   "metadata": {},
   "source": [
    "Fuel prices can affect the economy. In the past it was observed that a side effect of fuel gas prices is \"that discretionary spending of consumers goes down as they spend relatively more of their income on gasoline. Higher prices also mean that shoppers will tend to drive less - including to places like to mall or shopping center.\". We can observe this behavior also in our data. For instance starting at a fuel price of around 3.8USD weekly sales are falling below 250,000USD.\n",
    "\n",
    "Source: https://www.investopedia.com/financial-edge/0511/how-gas-prices-affect-the-economy.aspx#:~:text=%C2%A9TheBalance%202018-,Retailers,to%20mall%20or%20shopping%20center."
   ]
  },
  {
   "cell_type": "markdown",
   "metadata": {},
   "source": [
    "# 3) Data Preparation"
   ]
  },
  {
   "cell_type": "markdown",
   "metadata": {},
   "source": [
    "**Examine if the feature IsHoliday covers all holidays documented in the dataset**"
   ]
  },
  {
   "cell_type": "markdown",
   "metadata": {},
   "source": [
    "- Super Bowl: 12-Feb-10, 11-Feb-11, 10-Feb-12, 8-Feb-13\n",
    "- Labor Day: 10-Sep-10, 9-Sep-11, 7-Sep-12, 6-Sep-13\n",
    "- Thanksgiving: 26-Nov-10, 25-Nov-11, 23-Nov-12, 29-Nov-13\n",
    "- Christmas: 31-Dec-10, 30-Dec-11, 28-Dec-12, 27-Dec-13"
   ]
  },
  {
   "cell_type": "code",
   "execution_count": 49,
   "metadata": {},
   "outputs": [
    {
     "data": {
      "text/plain": [
       "array(['2010-02-12', '2010-09-10', '2010-11-26', '2010-12-31',\n",
       "       '2011-02-11', '2011-09-09', '2011-11-25', '2011-12-30',\n",
       "       '2012-02-10', '2012-09-07'], dtype=object)"
      ]
     },
     "execution_count": 49,
     "metadata": {},
     "output_type": "execute_result"
    }
   ],
   "source": [
    "df.loc[df['IsHoliday'] == 1, 'Date'].unique()"
   ]
  },
  {
   "cell_type": "code",
   "execution_count": 51,
   "metadata": {},
   "outputs": [
    {
     "data": {
      "text/plain": [
       "array(['2010-02-05', '2010-02-19', '2010-02-26', '2010-03-05',\n",
       "       '2010-03-12', '2010-03-19', '2010-03-26', '2010-04-02',\n",
       "       '2010-04-09', '2010-04-16', '2010-04-23', '2010-04-30',\n",
       "       '2010-05-07', '2010-05-14', '2010-05-21', '2010-05-28',\n",
       "       '2010-06-04', '2010-06-11', '2010-06-18', '2010-06-25',\n",
       "       '2010-07-02', '2010-07-09', '2010-07-16', '2010-07-23',\n",
       "       '2010-07-30', '2010-08-06', '2010-08-13', '2010-08-20',\n",
       "       '2010-08-27', '2010-09-03', '2010-09-17', '2010-09-24',\n",
       "       '2010-10-01', '2010-10-08', '2010-10-15', '2010-10-22',\n",
       "       '2010-10-29', '2010-11-05', '2010-11-12', '2010-11-19',\n",
       "       '2010-12-03', '2010-12-10', '2010-12-17', '2010-12-24',\n",
       "       '2011-01-07', '2011-01-14', '2011-01-21', '2011-01-28',\n",
       "       '2011-02-04', '2011-02-18', '2011-02-25', '2011-03-04',\n",
       "       '2011-03-11', '2011-03-18', '2011-03-25', '2011-04-01',\n",
       "       '2011-04-08', '2011-04-15', '2011-04-22', '2011-04-29',\n",
       "       '2011-05-06', '2011-05-13', '2011-05-20', '2011-05-27',\n",
       "       '2011-06-03', '2011-06-10', '2011-06-17', '2011-06-24',\n",
       "       '2011-07-01', '2011-07-08', '2011-07-15', '2011-07-22',\n",
       "       '2011-07-29', '2011-08-05', '2011-08-12', '2011-08-19',\n",
       "       '2011-08-26', '2011-09-02', '2011-09-16', '2011-09-23',\n",
       "       '2011-09-30', '2011-10-07', '2011-10-14', '2011-10-21',\n",
       "       '2011-10-28', '2011-11-04', '2011-11-11', '2011-11-18',\n",
       "       '2011-12-02', '2011-12-09', '2011-12-16', '2011-12-23',\n",
       "       '2012-01-06', '2012-01-13', '2012-01-20', '2012-01-27',\n",
       "       '2012-02-03', '2012-02-17', '2012-02-24', '2012-03-02',\n",
       "       '2012-03-09', '2012-03-16', '2012-03-23', '2012-03-30',\n",
       "       '2012-04-06', '2012-04-13', '2012-04-20', '2012-04-27',\n",
       "       '2012-05-04', '2012-05-11', '2012-05-18', '2012-05-25',\n",
       "       '2012-06-01', '2012-06-08', '2012-06-15', '2012-06-22',\n",
       "       '2012-06-29', '2012-07-06', '2012-07-13', '2012-07-20',\n",
       "       '2012-07-27', '2012-08-03', '2012-08-10', '2012-08-17',\n",
       "       '2012-08-24', '2012-08-31', '2012-09-14', '2012-09-21',\n",
       "       '2012-09-28', '2012-10-05', '2012-10-12', '2012-10-19',\n",
       "       '2012-10-26'], dtype=object)"
      ]
     },
     "execution_count": 51,
     "metadata": {},
     "output_type": "execute_result"
    }
   ],
   "source": [
    "df.loc[df['IsHoliday'] == 0, 'Date'].unique()"
   ]
  },
  {
   "cell_type": "markdown",
   "metadata": {},
   "source": [
    "It does cover all holidays."
   ]
  },
  {
   "cell_type": "markdown",
   "metadata": {},
   "source": [
    "**Dealing with Outliers**"
   ]
  },
  {
   "cell_type": "code",
   "execution_count": 38,
   "metadata": {},
   "outputs": [],
   "source": [
    "# extract the numeric features\n",
    "df_numerics = df[[\"Weekly_Sales\",'Size', 'Temperature', 'Fuel_Price',\n",
    "       'MarkDown1', 'MarkDown2', 'MarkDown3', 'MarkDown4', 'MarkDown5',\n",
    "       'CPidx', 'Unemp_rate']]\n",
    "\n",
    "# preserve column names\n",
    "df_cols = df_numerics.columns;\n",
    "df_numerics.columns = df_cols"
   ]
  },
  {
   "cell_type": "code",
   "execution_count": 39,
   "metadata": {},
   "outputs": [
    {
     "data": {
      "text/html": [
       "<div>\n",
       "<style scoped>\n",
       "    .dataframe tbody tr th:only-of-type {\n",
       "        vertical-align: middle;\n",
       "    }\n",
       "\n",
       "    .dataframe tbody tr th {\n",
       "        vertical-align: top;\n",
       "    }\n",
       "\n",
       "    .dataframe thead th {\n",
       "        text-align: right;\n",
       "    }\n",
       "</style>\n",
       "<table border=\"1\" class=\"dataframe\">\n",
       "  <thead>\n",
       "    <tr style=\"text-align: right;\">\n",
       "      <th></th>\n",
       "      <th>Weekly_Sales</th>\n",
       "      <th>Size</th>\n",
       "      <th>Temperature</th>\n",
       "      <th>Fuel_Price</th>\n",
       "      <th>MarkDown1</th>\n",
       "      <th>MarkDown2</th>\n",
       "      <th>MarkDown3</th>\n",
       "      <th>MarkDown4</th>\n",
       "      <th>MarkDown5</th>\n",
       "      <th>CPidx</th>\n",
       "      <th>Unemp_rate</th>\n",
       "    </tr>\n",
       "  </thead>\n",
       "  <tbody>\n",
       "    <tr>\n",
       "      <th>0</th>\n",
       "      <td>24924.50</td>\n",
       "      <td>151315</td>\n",
       "      <td>42.31</td>\n",
       "      <td>2.572</td>\n",
       "      <td>0.00</td>\n",
       "      <td>0.00</td>\n",
       "      <td>0.0</td>\n",
       "      <td>0.00</td>\n",
       "      <td>0.00</td>\n",
       "      <td>211.096358</td>\n",
       "      <td>8.106</td>\n",
       "    </tr>\n",
       "    <tr>\n",
       "      <th>1</th>\n",
       "      <td>50605.27</td>\n",
       "      <td>151315</td>\n",
       "      <td>42.31</td>\n",
       "      <td>2.572</td>\n",
       "      <td>0.00</td>\n",
       "      <td>0.00</td>\n",
       "      <td>0.0</td>\n",
       "      <td>0.00</td>\n",
       "      <td>0.00</td>\n",
       "      <td>211.096358</td>\n",
       "      <td>8.106</td>\n",
       "    </tr>\n",
       "    <tr>\n",
       "      <th>2</th>\n",
       "      <td>13740.12</td>\n",
       "      <td>151315</td>\n",
       "      <td>42.31</td>\n",
       "      <td>2.572</td>\n",
       "      <td>0.00</td>\n",
       "      <td>0.00</td>\n",
       "      <td>0.0</td>\n",
       "      <td>0.00</td>\n",
       "      <td>0.00</td>\n",
       "      <td>211.096358</td>\n",
       "      <td>8.106</td>\n",
       "    </tr>\n",
       "    <tr>\n",
       "      <th>3</th>\n",
       "      <td>39954.04</td>\n",
       "      <td>151315</td>\n",
       "      <td>42.31</td>\n",
       "      <td>2.572</td>\n",
       "      <td>0.00</td>\n",
       "      <td>0.00</td>\n",
       "      <td>0.0</td>\n",
       "      <td>0.00</td>\n",
       "      <td>0.00</td>\n",
       "      <td>211.096358</td>\n",
       "      <td>8.106</td>\n",
       "    </tr>\n",
       "    <tr>\n",
       "      <th>4</th>\n",
       "      <td>32229.38</td>\n",
       "      <td>151315</td>\n",
       "      <td>42.31</td>\n",
       "      <td>2.572</td>\n",
       "      <td>0.00</td>\n",
       "      <td>0.00</td>\n",
       "      <td>0.0</td>\n",
       "      <td>0.00</td>\n",
       "      <td>0.00</td>\n",
       "      <td>211.096358</td>\n",
       "      <td>8.106</td>\n",
       "    </tr>\n",
       "    <tr>\n",
       "      <th>...</th>\n",
       "      <td>...</td>\n",
       "      <td>...</td>\n",
       "      <td>...</td>\n",
       "      <td>...</td>\n",
       "      <td>...</td>\n",
       "      <td>...</td>\n",
       "      <td>...</td>\n",
       "      <td>...</td>\n",
       "      <td>...</td>\n",
       "      <td>...</td>\n",
       "      <td>...</td>\n",
       "    </tr>\n",
       "    <tr>\n",
       "      <th>421565</th>\n",
       "      <td>2487.80</td>\n",
       "      <td>118221</td>\n",
       "      <td>58.85</td>\n",
       "      <td>3.882</td>\n",
       "      <td>4018.91</td>\n",
       "      <td>58.08</td>\n",
       "      <td>100.0</td>\n",
       "      <td>211.94</td>\n",
       "      <td>858.33</td>\n",
       "      <td>192.308899</td>\n",
       "      <td>8.667</td>\n",
       "    </tr>\n",
       "    <tr>\n",
       "      <th>421566</th>\n",
       "      <td>5203.31</td>\n",
       "      <td>118221</td>\n",
       "      <td>58.85</td>\n",
       "      <td>3.882</td>\n",
       "      <td>4018.91</td>\n",
       "      <td>58.08</td>\n",
       "      <td>100.0</td>\n",
       "      <td>211.94</td>\n",
       "      <td>858.33</td>\n",
       "      <td>192.308899</td>\n",
       "      <td>8.667</td>\n",
       "    </tr>\n",
       "    <tr>\n",
       "      <th>421567</th>\n",
       "      <td>56017.47</td>\n",
       "      <td>118221</td>\n",
       "      <td>58.85</td>\n",
       "      <td>3.882</td>\n",
       "      <td>4018.91</td>\n",
       "      <td>58.08</td>\n",
       "      <td>100.0</td>\n",
       "      <td>211.94</td>\n",
       "      <td>858.33</td>\n",
       "      <td>192.308899</td>\n",
       "      <td>8.667</td>\n",
       "    </tr>\n",
       "    <tr>\n",
       "      <th>421568</th>\n",
       "      <td>6817.48</td>\n",
       "      <td>118221</td>\n",
       "      <td>58.85</td>\n",
       "      <td>3.882</td>\n",
       "      <td>4018.91</td>\n",
       "      <td>58.08</td>\n",
       "      <td>100.0</td>\n",
       "      <td>211.94</td>\n",
       "      <td>858.33</td>\n",
       "      <td>192.308899</td>\n",
       "      <td>8.667</td>\n",
       "    </tr>\n",
       "    <tr>\n",
       "      <th>421569</th>\n",
       "      <td>1076.80</td>\n",
       "      <td>118221</td>\n",
       "      <td>58.85</td>\n",
       "      <td>3.882</td>\n",
       "      <td>4018.91</td>\n",
       "      <td>58.08</td>\n",
       "      <td>100.0</td>\n",
       "      <td>211.94</td>\n",
       "      <td>858.33</td>\n",
       "      <td>192.308899</td>\n",
       "      <td>8.667</td>\n",
       "    </tr>\n",
       "  </tbody>\n",
       "</table>\n",
       "<p>361174 rows × 11 columns</p>\n",
       "</div>"
      ],
      "text/plain": [
       "        Weekly_Sales    Size  Temperature  Fuel_Price  MarkDown1  MarkDown2  \\\n",
       "0           24924.50  151315        42.31       2.572       0.00       0.00   \n",
       "1           50605.27  151315        42.31       2.572       0.00       0.00   \n",
       "2           13740.12  151315        42.31       2.572       0.00       0.00   \n",
       "3           39954.04  151315        42.31       2.572       0.00       0.00   \n",
       "4           32229.38  151315        42.31       2.572       0.00       0.00   \n",
       "...              ...     ...          ...         ...        ...        ...   \n",
       "421565       2487.80  118221        58.85       3.882    4018.91      58.08   \n",
       "421566       5203.31  118221        58.85       3.882    4018.91      58.08   \n",
       "421567      56017.47  118221        58.85       3.882    4018.91      58.08   \n",
       "421568       6817.48  118221        58.85       3.882    4018.91      58.08   \n",
       "421569       1076.80  118221        58.85       3.882    4018.91      58.08   \n",
       "\n",
       "        MarkDown3  MarkDown4  MarkDown5       CPidx  Unemp_rate  \n",
       "0             0.0       0.00       0.00  211.096358       8.106  \n",
       "1             0.0       0.00       0.00  211.096358       8.106  \n",
       "2             0.0       0.00       0.00  211.096358       8.106  \n",
       "3             0.0       0.00       0.00  211.096358       8.106  \n",
       "4             0.0       0.00       0.00  211.096358       8.106  \n",
       "...           ...        ...        ...         ...         ...  \n",
       "421565      100.0     211.94     858.33  192.308899       8.667  \n",
       "421566      100.0     211.94     858.33  192.308899       8.667  \n",
       "421567      100.0     211.94     858.33  192.308899       8.667  \n",
       "421568      100.0     211.94     858.33  192.308899       8.667  \n",
       "421569      100.0     211.94     858.33  192.308899       8.667  \n",
       "\n",
       "[361174 rows x 11 columns]"
      ]
     },
     "execution_count": 39,
     "metadata": {},
     "output_type": "execute_result"
    }
   ],
   "source": [
    "# remove values which are not within 2.5 standard deviations of the mean\n",
    "df_numerics = df_numerics[(np.abs(stats.zscore(df_numerics)) < 2.5).all(axis = 1)]\n",
    "df_numerics"
   ]
  },
  {
   "cell_type": "code",
   "execution_count": 40,
   "metadata": {},
   "outputs": [],
   "source": [
    "df.drop(columns={\"Weekly_Sales\",'Size', 'Temperature', 'Fuel_Price',\n",
    "       'MarkDown1', 'MarkDown2', 'MarkDown3', 'MarkDown4', 'MarkDown5',\n",
    "       'CPidx', 'Unemp_rate'}, inplace=True)"
   ]
  },
  {
   "cell_type": "code",
   "execution_count": 41,
   "metadata": {},
   "outputs": [],
   "source": [
    "# concatenate df with the df_numeric dataframe without outliers \n",
    "df = pd.concat([df_numerics, df], axis=1)\n",
    "\n",
    "# drop missing values\n",
    "df.dropna(inplace=True)\n",
    "\n",
    "# reset index\n",
    "df = df.reset_index(drop=True)"
   ]
  },
  {
   "cell_type": "markdown",
   "metadata": {},
   "source": [
    "**Deriving a useful feature out of the DateTime feature \"Date\" for machine learning**"
   ]
  },
  {
   "cell_type": "code",
   "execution_count": 42,
   "metadata": {},
   "outputs": [],
   "source": [
    "# convert Date from object to datetime\n",
    "df[\"Date\"] = pd.to_datetime(df[\"Date\"])\n",
    "\n",
    "# extract feature month from Date\n",
    "df[\"week\"] = df[\"Date\"].dt.week\n",
    "\n",
    "# drop the Date column since it is now redundant\n",
    "df.drop(columns=[\"Date\"], inplace=True)"
   ]
  },
  {
   "cell_type": "markdown",
   "metadata": {},
   "source": [
    "**Dummy Coding**\n",
    "- Type\n",
    "- Dept \n",
    "- Store"
   ]
  },
  {
   "cell_type": "code",
   "execution_count": 43,
   "metadata": {},
   "outputs": [],
   "source": [
    "# dummy coding the Type feature\n",
    "df_dummies = pd.get_dummies(df['Type'])\n",
    "\n",
    "# combine the df_dummies with the transcript dataframe\n",
    "df = pd.concat([df, df_dummies], axis=1)\n",
    "df.drop(columns=\"Type\", inplace=True)"
   ]
  },
  {
   "cell_type": "code",
   "execution_count": 44,
   "metadata": {},
   "outputs": [],
   "source": [
    "# dummy coding the Dept feature\n",
    "df_dummies = pd.get_dummies(df['Dept'])\n",
    "\n",
    "# combine the df_dummies with the transcript dataframe\n",
    "df = pd.concat([df, df_dummies], axis=1)\n",
    "df.drop(columns=\"Dept\", inplace=True)"
   ]
  },
  {
   "cell_type": "code",
   "execution_count": 45,
   "metadata": {},
   "outputs": [],
   "source": [
    "# dummy coding the Store feature\n",
    "df_dummies = pd.get_dummies(df['Store'])\n",
    "\n",
    "# combine the df_dummies with the transcript dataframe\n",
    "df = pd.concat([df, df_dummies], axis=1)\n",
    "df.drop(columns=\"Store\", inplace=True)"
   ]
  },
  {
   "cell_type": "markdown",
   "metadata": {},
   "source": [
    "**Feature Correlation**"
   ]
  },
  {
   "cell_type": "code",
   "execution_count": 46,
   "metadata": {},
   "outputs": [],
   "source": [
    "df_matrix = df[[\"Weekly_Sales\",\"Temperature\", \"Fuel_Price\", \"MarkDown1\", \"MarkDown2\", \"MarkDown3\", \"MarkDown4\", \"MarkDown5\", \n",
    "               \"CPidx\", \"Unemp_rate\", \"IsHoliday\", \"A\", \"B\", \"C\", \"Size\", \"week\"]]"
   ]
  },
  {
   "cell_type": "code",
   "execution_count": 15,
   "metadata": {},
   "outputs": [
    {
     "data": {
      "text/plain": [
       "<matplotlib.axes._subplots.AxesSubplot at 0x24fa104bd88>"
      ]
     },
     "execution_count": 15,
     "metadata": {},
     "output_type": "execute_result"
    },
    {
     "data": {
      "image/png": "[encoded data removed]",
      "text/plain": [
       "<Figure size 1152x576 with 2 Axes>"
      ]
     },
     "metadata": {},
     "output_type": "display_data"
    }
   ],
   "source": [
    "sns.set_style('darkgrid') # set style\n",
    "plt.figure(figsize=(16,8))\n",
    "# Compute the correlation matrix\n",
    "corr = df_matrix.corr()\n",
    "# Generate a mask for the upper triangle\n",
    "mask = np.triu(np.ones_like(corr, dtype=np.bool))\n",
    "# plot heatmap\n",
    "sns.heatmap(df_matrix.corr(),yticklabels=True, annot=True,mask=mask,linewidths=.5)"
   ]
  },
  {
   "cell_type": "markdown",
   "metadata": {},
   "source": [
    "**Dropping Features with a correlation of 0.7 or higher**\n",
    "\n",
    "Let's keep all features for now."
   ]
  },
  {
   "cell_type": "code",
   "execution_count": 47,
   "metadata": {},
   "outputs": [],
   "source": [
    "df.drop(columns={\"MarkDown1\"}, inplace=True) "
   ]
  },
  {
   "cell_type": "markdown",
   "metadata": {},
   "source": [
    "**Dropping Features with near zero variance or zero variance**"
   ]
  },
  {
   "cell_type": "code",
   "execution_count": 48,
   "metadata": {},
   "outputs": [
    {
     "data": {
      "text/plain": [
       "(361174, 141)"
      ]
     },
     "execution_count": 48,
     "metadata": {},
     "output_type": "execute_result"
    }
   ],
   "source": [
    "df.shape"
   ]
  },
  {
   "cell_type": "code",
   "execution_count": 49,
   "metadata": {},
   "outputs": [
    {
     "data": {
      "text/plain": [
       "(361174, 141)"
      ]
     },
     "execution_count": 49,
     "metadata": {},
     "output_type": "execute_result"
    }
   ],
   "source": [
    "# dropping near zero variance features with .8 treshold\n",
    "from sklearn.feature_selection import VarianceThreshold\n",
    "treshold = VarianceThreshold(threshold=(.8 * (1 - .8)))\n",
    "treshold.fit_transform(df)\n",
    "features = df.columns.values[treshold.get_support(indices = True)]\n",
    "feats = [column for column in df[features]] \n",
    "df.shape"
   ]
  },
  {
   "cell_type": "markdown",
   "metadata": {},
   "source": [
    "There were no features with near zero variance or zero variance."
   ]
  },
  {
   "cell_type": "markdown",
   "metadata": {},
   "source": [
    "**Feature Correlation to the DV: Weeky Sales**"
   ]
  },
  {
   "cell_type": "code",
   "execution_count": 50,
   "metadata": {},
   "outputs": [
    {
     "data": {
      "text/plain": [
       "B              -0.106594\n",
       "28             -0.098951\n",
       "59             -0.098326\n",
       "60             -0.097785\n",
       "54             -0.090704\n",
       "                  ...   \n",
       "40              0.200565\n",
       "95              0.200867\n",
       "Size            0.226396\n",
       "38              0.242076\n",
       "Weekly_Sales    1.000000\n",
       "Name: Weekly_Sales, Length: 141, dtype: float64"
      ]
     },
     "execution_count": 50,
     "metadata": {},
     "output_type": "execute_result"
    }
   ],
   "source": [
    "df.corr()[\"Weekly_Sales\"].sort_values()"
   ]
  },
  {
   "cell_type": "code",
   "execution_count": 51,
   "metadata": {},
   "outputs": [
    {
     "data": {
      "text/plain": [
       "<matplotlib.axes._subplots.AxesSubplot at 0x24fd67d4948>"
      ]
     },
     "execution_count": 51,
     "metadata": {},
     "output_type": "execute_result"
    },
    {
     "data": {
      "image/png": "[encoded data removed]",
      "text/plain": [
       "<Figure size 1800x720 with 1 Axes>"
      ]
     },
     "metadata": {},
     "output_type": "display_data"
    }
   ],
   "source": [
    "sns.set_style('darkgrid')\n",
    "plt.figure(figsize=(25,10))\n",
    "df.corr()[\"Weekly_Sales\"].sort_values().plot(kind=\"bar\")"
   ]
  },
  {
   "cell_type": "markdown",
   "metadata": {},
   "source": [
    "**Data Partition into Training, Validation and Test Split**"
   ]
  },
  {
   "cell_type": "code",
   "execution_count": 52,
   "metadata": {},
   "outputs": [
    {
     "name": "stdout",
     "output_type": "stream",
     "text": [
      "Training Data: (288939, 140) (288939,) \n",
      "Validation Data: (57788, 140) (57788,) \n",
      "Test Data: (14447, 140) (14447,)\n"
     ]
    }
   ],
   "source": [
    "# Split the data into training, validation and test datasets \n",
    "df_train, df_valid = train_test_split(df, test_size=0.2, random_state=1)\n",
    "df_valid, df_test = train_test_split(df_valid, test_size=0.2, random_state=1)\n",
    "\n",
    "# separate the DV from the train/validation/test sets\n",
    "X_train = df_train.drop(['Weekly_Sales'], axis=1)\n",
    "y_train = df_train.Weekly_Sales.values\n",
    "X_valid = df_valid.drop(['Weekly_Sales'], axis=1)\n",
    "y_valid = df_valid.Weekly_Sales.values\n",
    "X_test = df_test.drop(['Weekly_Sales'], axis=1)\n",
    "y_test = df_test.Weekly_Sales.values\n",
    "\n",
    "print(\"Training Data:\", X_train.shape, y_train.shape,\"\\nValidation Data:\", X_valid.shape, y_valid.shape,\n",
    "      \"\\nTest Data:\", X_test.shape, y_test.shape)"
   ]
  },
  {
   "cell_type": "markdown",
   "metadata": {},
   "source": [
    "**Feature Scaling using Normalization**"
   ]
  },
  {
   "cell_type": "markdown",
   "metadata": {},
   "source": [
    "Explanation:\n",
    "\n",
    "- MinMaxScaler(feature_range = (0, 1)) will transform each value in the column proportionally within the range [0,1]. It is a great choice to scale features to the same scale because it preserves the shape of the dataset, meaning there will be no distortion.\n",
    "\n",
    "Equation:\n",
    "\n",
    "- X_std = (X - X.min(axis=0)) / (X.max(axis=0) - X.min(axis=0))\n",
    "- X_scaled = X_std * (max - min) + min\n",
    "- where min, max = feature_range"
   ]
  },
  {
   "cell_type": "code",
   "execution_count": 53,
   "metadata": {},
   "outputs": [],
   "source": [
    "# Since we have many different types of features in our dataset we should normalize the data to have all features\n",
    "# on the same scale\n",
    "\n",
    "# create an instance of MinMaxScaler\n",
    "scaler = MinMaxScaler().fit(X_train)\n",
    "\n",
    "# now perform the transformations on the training, validation and test set\n",
    "X_train = scaler.transform(X_train)\n",
    "X_valid = scaler.transform(X_valid)\n",
    "X_test = scaler.transform(X_test)"
   ]
  },
  {
   "cell_type": "markdown",
   "metadata": {},
   "source": [
    "# 4) Model Building and Validation\n",
    "\n",
    "**Steps for each model**\n",
    "- **Create model instance**\n",
    "- **Fit model on training data**\n",
    "- **Calculate MAE, MSE, RMSE, R2, Adj R2**\n",
    "- **Plot residuals**: (Residuals = Observed value – the fitted value)"
   ]
  },
  {
   "cell_type": "markdown",
   "metadata": {},
   "source": [
    "# Model 1: Linear Regression\n",
    "\n",
    "Linear Regression requires the data to follow the following assumptions:\n",
    "\n",
    "- \n",
    "\n",
    "Source: https://statisticsbyjim.com/regression/ols-linear-regression-assumptions/"
   ]
  },
  {
   "cell_type": "code",
   "execution_count": 80,
   "metadata": {},
   "outputs": [
    {
     "data": {
      "text/plain": [
       "LinearRegression(copy_X=True, fit_intercept=True, n_jobs=None, normalize=False)"
      ]
     },
     "execution_count": 80,
     "metadata": {},
     "output_type": "execute_result"
    }
   ],
   "source": [
    "# create model instance\n",
    "lm = LinearRegression()\n",
    "\n",
    "# fit model on training data\n",
    "lm.fit(X_train, y_train)"
   ]
  },
  {
   "cell_type": "code",
   "execution_count": 81,
   "metadata": {},
   "outputs": [],
   "source": [
    "# predict on validation data\n",
    "y_pred = lm.predict(X_valid)"
   ]
  },
  {
   "cell_type": "code",
   "execution_count": 82,
   "metadata": {},
   "outputs": [
    {
     "name": "stdout",
     "output_type": "stream",
     "text": [
      "MAE 6172.011314978889\n",
      "MSE 77385502.85305074\n",
      "RMSE 8796.903026238879\n",
      "R2 0.6712748343979955\n",
      "Adjusted R2 0.6704765010383362\n"
     ]
    }
   ],
   "source": [
    "print(\"MAE\" , metrics.mean_absolute_error(y_valid, y_pred))\n",
    "print(\"MSE\" , metrics.mean_squared_error(y_valid, y_pred))\n",
    "print(\"RMSE\" , np.sqrt(metrics.mean_squared_error(y_valid, y_pred)))\n",
    "print(\"R2\" , metrics.explained_variance_score(y_valid, y_pred))\n",
    "print(\"Adjusted R2\", 1-(1-(metrics.explained_variance_score(y_valid, y_pred)))*(len(X_valid)-1)/(len(X_valid)-X_valid.shape[1]-1))"
   ]
  },
  {
   "cell_type": "code",
   "execution_count": 83,
   "metadata": {},
   "outputs": [
    {
     "data": {
      "text/plain": [
       "<matplotlib.axes._subplots.AxesSubplot at 0x24f9f83b488>"
      ]
     },
     "execution_count": 83,
     "metadata": {},
     "output_type": "execute_result"
    },
    {
     "data": {
      "image/png": "[encoded data removed]",
      "text/plain": [
       "<Figure size 432x288 with 1 Axes>"
      ]
     },
     "metadata": {
      "needs_background": "light"
     },
     "output_type": "display_data"
    }
   ],
   "source": [
    "# plot residuals\n",
    "sns.distplot(y_valid-y_pred)"
   ]
  },
  {
   "cell_type": "code",
   "execution_count": 84,
   "metadata": {},
   "outputs": [],
   "source": [
    "# predict test data\n",
    "y_pred = lm.predict(X_test)"
   ]
  },
  {
   "cell_type": "code",
   "execution_count": 85,
   "metadata": {},
   "outputs": [
    {
     "name": "stdout",
     "output_type": "stream",
     "text": [
      "Test MAE 6197.893785561017\n",
      "Test MSE 77623572.06588268\n",
      "Test RMSE 8810.424057097518\n",
      "Test R2 0.6721310153403699\n",
      "Test Adjusted R2 0.6689224554457558\n"
     ]
    }
   ],
   "source": [
    "print(\"Test MAE\" , metrics.mean_absolute_error(y_test, y_pred))\n",
    "print(\"Test MSE\" , metrics.mean_squared_error(y_test, y_pred))\n",
    "print(\"Test RMSE\" , np.sqrt(metrics.mean_squared_error(y_test, y_pred)))\n",
    "print(\"Test R2\" , metrics.explained_variance_score(y_test, y_pred))\n",
    "print(\"Test Adjusted R2\", 1-(1-(metrics.explained_variance_score(y_test, y_pred)))*(len(X_test)-1)/(len(X_test)-X_test.shape[1]-1))"
   ]
  },
  {
   "cell_type": "markdown",
   "metadata": {},
   "source": [
    "# Model 2: Random Forest"
   ]
  },
  {
   "cell_type": "code",
   "execution_count": 64,
   "metadata": {},
   "outputs": [
    {
     "data": {
      "text/plain": [
       "RandomForestRegressor(bootstrap=True, ccp_alpha=0.0, criterion='mse',\n",
       "                      max_depth=None, max_features='auto', max_leaf_nodes=None,\n",
       "                      max_samples=None, min_impurity_decrease=0.0,\n",
       "                      min_impurity_split=None, min_samples_leaf=1,\n",
       "                      min_samples_split=2, min_weight_fraction_leaf=0.0,\n",
       "                      n_estimators=100, n_jobs=None, oob_score=False,\n",
       "                      random_state=None, verbose=0, warm_start=False)"
      ]
     },
     "execution_count": 64,
     "metadata": {},
     "output_type": "execute_result"
    }
   ],
   "source": [
    "# create model instance\n",
    "rf = RandomForestRegressor()\n",
    "\n",
    "# fit model on training data\n",
    "rf.fit(X_train, y_train)"
   ]
  },
  {
   "cell_type": "code",
   "execution_count": 66,
   "metadata": {},
   "outputs": [],
   "source": [
    "# predict validation data\n",
    "y_pred = rf.predict(X_valid)"
   ]
  },
  {
   "cell_type": "code",
   "execution_count": 67,
   "metadata": {},
   "outputs": [
    {
     "name": "stdout",
     "output_type": "stream",
     "text": [
      "MAE 1157.5311105160242\n",
      "MSE 5379236.433354012\n",
      "RMSE 2319.3180966296995\n",
      "R2 0.9771499421626864\n",
      "Adjusted R2 0.9770944491084559\n"
     ]
    }
   ],
   "source": [
    "print(\"MAE\" , metrics.mean_absolute_error(y_valid, y_pred))\n",
    "print(\"MSE\" , metrics.mean_squared_error(y_valid, y_pred))\n",
    "print(\"RMSE\" , np.sqrt(metrics.mean_squared_error(y_valid, y_pred)))\n",
    "print(\"R2\" , metrics.explained_variance_score(y_valid, y_pred))\n",
    "print(\"Adjusted R2\", 1-(1-(metrics.explained_variance_score(y_valid, y_pred)))*(len(X_valid)-1)/(len(X_valid)-X_valid.shape[1]-1))"
   ]
  },
  {
   "cell_type": "code",
   "execution_count": 68,
   "metadata": {},
   "outputs": [
    {
     "data": {
      "text/plain": [
       "<matplotlib.axes._subplots.AxesSubplot at 0x24fa5d36e08>"
      ]
     },
     "execution_count": 68,
     "metadata": {},
     "output_type": "execute_result"
    },
    {
     "data": {
      "image/png": "[encoded data removed]",
      "text/plain": [
       "<Figure size 432x288 with 1 Axes>"
      ]
     },
     "metadata": {
      "needs_background": "light"
     },
     "output_type": "display_data"
    }
   ],
   "source": [
    "# plot residuals\n",
    "sns.distplot(y_valid-y_pred)"
   ]
  },
  {
   "cell_type": "markdown",
   "metadata": {},
   "source": [
    "With more time and more computational power, it would be worth coming back to improve the model by tuning the model hyperparameters. However, for now the performance is acceptable and we can move on to predict the test data."
   ]
  },
  {
   "cell_type": "code",
   "execution_count": 69,
   "metadata": {},
   "outputs": [],
   "source": [
    "# predict test data\n",
    "y_pred = rf.predict(X_test)"
   ]
  },
  {
   "cell_type": "code",
   "execution_count": 70,
   "metadata": {},
   "outputs": [
    {
     "name": "stdout",
     "output_type": "stream",
     "text": [
      "Test MAE 1139.9558774901363\n",
      "Test MSE 4924107.052809853\n",
      "Test RMSE 2219.032909357104\n",
      "Test R2 0.9791982042800864\n",
      "Test Adjusted R2 0.9789946357493449\n"
     ]
    }
   ],
   "source": [
    "print(\"Test MAE\" , metrics.mean_absolute_error(y_test, y_pred))\n",
    "print(\"Test MSE\" , metrics.mean_squared_error(y_test, y_pred))\n",
    "print(\"Test RMSE\" , np.sqrt(metrics.mean_squared_error(y_test, y_pred)))\n",
    "print(\"Test R2\" , metrics.explained_variance_score(y_test, y_pred))\n",
    "print(\"Test Adjusted R2\", 1-(1-(metrics.explained_variance_score(y_test, y_pred)))*(len(X_test)-1)/(len(X_test)-X_test.shape[1]-1))"
   ]
  },
  {
   "cell_type": "markdown",
   "metadata": {},
   "source": [
    "# Model 3: Extreme Gradient Boosting "
   ]
  },
  {
   "cell_type": "code",
   "execution_count": 71,
   "metadata": {},
   "outputs": [
    {
     "data": {
      "text/plain": [
       "XGBRegressor(base_score=0.5, booster='gbtree', colsample_bylevel=1,\n",
       "             colsample_bynode=1, colsample_bytree=1, gamma=0, gpu_id=-1,\n",
       "             importance_type='gain', interaction_constraints='',\n",
       "             learning_rate=0.300000012, max_delta_step=0, max_depth=6,\n",
       "             min_child_weight=1, missing=nan, monotone_constraints='()',\n",
       "             n_estimators=100, n_jobs=0, num_parallel_tree=1,\n",
       "             objective='reg:squarederror', random_state=0, reg_alpha=0,\n",
       "             reg_lambda=1, scale_pos_weight=1, subsample=1, tree_method='exact',\n",
       "             validate_parameters=1, verbosity=None)"
      ]
     },
     "execution_count": 71,
     "metadata": {},
     "output_type": "execute_result"
    }
   ],
   "source": [
    "# set up the classifier. Once again we will use the default parameters as starting point\n",
    "xgbr = XGBRegressor()\n",
    "\n",
    "# fit the model on the training set\n",
    "xgbr.fit(X_train, y_train)"
   ]
  },
  {
   "cell_type": "code",
   "execution_count": 73,
   "metadata": {},
   "outputs": [],
   "source": [
    "# predict validation data\n",
    "y_pred = xgbr.predict(X_valid)"
   ]
  },
  {
   "cell_type": "code",
   "execution_count": 74,
   "metadata": {},
   "outputs": [
    {
     "name": "stdout",
     "output_type": "stream",
     "text": [
      "MAE 2677.2681312035193\n",
      "MSE 17095712.46315524\n",
      "RMSE 4134.696175434809\n",
      "R2 0.9273791361799794\n",
      "Adjusted R2 0.9272027710450235\n"
     ]
    }
   ],
   "source": [
    "print(\"MAE\" , metrics.mean_absolute_error(y_valid, y_pred))\n",
    "print(\"MSE\" , metrics.mean_squared_error(y_valid, y_pred))\n",
    "print(\"RMSE\" , np.sqrt(metrics.mean_squared_error(y_valid, y_pred)))\n",
    "print(\"R2\" , metrics.explained_variance_score(y_valid, y_pred))\n",
    "print(\"Adjusted R2\", 1-(1-(metrics.explained_variance_score(y_valid, y_pred)))*(len(X_valid)-1)/(len(X_valid)-X_valid.shape[1]-1))"
   ]
  },
  {
   "cell_type": "code",
   "execution_count": 75,
   "metadata": {},
   "outputs": [
    {
     "data": {
      "text/plain": [
       "<matplotlib.axes._subplots.AxesSubplot at 0x24f9f74e2c8>"
      ]
     },
     "execution_count": 75,
     "metadata": {},
     "output_type": "execute_result"
    },
    {
     "data": {
      "image/png": "[encoded data removed]",
      "text/plain": [
       "<Figure size 432x288 with 1 Axes>"
      ]
     },
     "metadata": {
      "needs_background": "light"
     },
     "output_type": "display_data"
    }
   ],
   "source": [
    "sns.distplot(y_valid-y_pred)"
   ]
  },
  {
   "cell_type": "code",
   "execution_count": 78,
   "metadata": {},
   "outputs": [],
   "source": [
    "# predict test data\n",
    "y_pred = xgbr.predict(X_test)"
   ]
  },
  {
   "cell_type": "code",
   "execution_count": 79,
   "metadata": {},
   "outputs": [
    {
     "name": "stdout",
     "output_type": "stream",
     "text": [
      "Test MAE 2659.998773056535\n",
      "Test MSE 16043833.548802372\n",
      "Test RMSE 4005.475446036634\n",
      "Test R2 0.9322273005450046\n",
      "Test Adjusted R2 0.9315640698778929\n"
     ]
    }
   ],
   "source": [
    "print(\"Test MAE\" , metrics.mean_absolute_error(y_test, y_pred))\n",
    "print(\"Test MSE\" , metrics.mean_squared_error(y_test, y_pred))\n",
    "print(\"Test RMSE\" , np.sqrt(metrics.mean_squared_error(y_test, y_pred)))\n",
    "print(\"Test R2\" , metrics.explained_variance_score(y_test, y_pred))\n",
    "print(\"Test Adjusted R2\", 1-(1-(metrics.explained_variance_score(y_test, y_pred)))*(len(X_test)-1)/(len(X_test)-X_test.shape[1]-1))"
   ]
  },
  {
   "cell_type": "markdown",
   "metadata": {},
   "source": [
    "# Model Comparison"
   ]
  },
  {
   "cell_type": "markdown",
   "metadata": {},
   "source": [
    "Due to limited computational resources we will simply go with the default model results. Ideally, we would go back and tune the model hyperparameters to further improve the model performance by reducing the prediction error."
   ]
  },
  {
   "cell_type": "markdown",
   "metadata": {},
   "source": [
    "To compare the 3 models, we will use adjusted R2 and RMSE metrics."
   ]
  },
  {
   "cell_type": "markdown",
   "metadata": {},
   "source": [
    "**Why Adj R2?**\n",
    "\n",
    "Adjusted Rsquared = 1 - (1 - R2) * ((n - 1) / (n - p - 1))\n",
    "\n",
    "where p is the total number of explanatory variables in the model (not including the constant term), and n is the sample size. It can also be written as:\n",
    "\n",
    "Why is adjusted Rsquared used? The adjusted R-squared compensates for the addition of variables and only increases if the new predictor enhances the model above what would be obtained by probability.\n",
    "\n",
    "R-square test is used to determine the goodness of fit in regression analysis. Goodness of fit implies how better regression model is fitted to the data points. More is the value of r-square near to 1, better is the model. But the problem lies in the fact that the value of r-square always increases as new variables(attributes) are added to the model, no matter that the newly added attributes have a positive impact on the model or not. also, it can lead to over fitting of the model if there are large no. of variables.\n",
    "\n",
    "Adjusted r-square is a modified form of r-square whose value increases if new predictors tend to improve model’s performance and decreases if new predictors does not improve performance as expected.\n",
    "\n",
    "Source= https://www.geeksforgeeks.org/ml-adjusted-r-square-in-regression-analysis/\n",
    "\n",
    "**Why RMSE?**\n",
    "\n",
    "Root Mean Square Error (RMSE) is the standard deviation of the residuals (prediction errors). Residuals are a measure of how far from the regression line data points are; RMSE is a measure of how spread out these residuals are. In other words, it tells you how concentrated the data is around the line of best fit.\n",
    "\n",
    "We will use RMSE because this metric has some advantages over MAE and MSE. The MAE fails to punish large prediction errors and might therefore be misleading. MSE is a way to punish these outlier prediction errors by squaring each error and then taking the mean, however, it is difficult to compare this metric with the actual outcome value since its unit is squared. That's when RMSE comes into play. It entails simply taking the square root of the MSE metric which means it still punishes outlier but is now in the same units as the outcome value which makes it easy to evaluate.\n",
    "\n",
    "The lower the RMSE value, the better the fit.\n",
    "\n",
    "Source: https://www.google.com/search?q=rmse&rlz=1C1CHBF_enUS902US902&oq=RMSE&aqs=chrome.0.0l8.575j0j4&sourceid=chrome&ie=UTF-8"
   ]
  },
  {
   "cell_type": "code",
   "execution_count": 99,
   "metadata": {},
   "outputs": [
    {
     "name": "stdout",
     "output_type": "stream",
     "text": [
      "Linear Regression\n",
      "RMSE: 8810.42\n",
      "adj R2: 0.6689\n",
      "\n",
      "Random Forest\n",
      "RMSE: 2219.03\n",
      "adj R2: 0.9789\n",
      "\n",
      "XGBoost\n",
      "RMSE: 4005.47\n",
      "adj R2: 0.9315\n",
      "\n"
     ]
    }
   ],
   "source": [
    "print(\"Linear Regression\\nRMSE: {}\\nadj R2: {}\".format(8810.42, 0.6689))\n",
    "print(\"\\nRandom Forest\\nRMSE: {}\\nadj R2: {}\".format(2219.03, 0.9789))\n",
    "print(\"\\nXGBoost\\nRMSE: {}\\nadj R2: {}\\n\".format(4005.47,0.9315))"
   ]
  },
  {
   "cell_type": "markdown",
   "metadata": {},
   "source": [
    "We can clearly see that Linear Regression did not perform well on our data. Presumably, because this model fails at finding relationships that are non-linear in nature. Our dataset probably has these types of relationships. On the other side, the Random Forest model performed very well. It showed an adj R2 of 0.9789 which means the model can explain around 97% of the variance in the data. Further, it displays an RMSE of 2219.03, which is the lowest error among the 3 models. Therefore, the Random Forest model is selected as best performing model."
   ]
  },
  {
   "cell_type": "markdown",
   "metadata": {},
   "source": [
    "# Next Steps - Ways to potentially improve the model(s)"
   ]
  },
  {
   "cell_type": "markdown",
   "metadata": {},
   "source": [
    "- PCA to reduce dimensionality\n",
    "- Re-assess feature selection\n",
    "- Hyperparameter tuning\n",
    "- Create a function to measure time while training RF (It takes quite long)\n",
    "- Try AutoRegressive Integrated Moving Average model"
   ]
  },
  {
   "cell_type": "markdown",
   "metadata": {},
   "source": [
    "# 5) Saving the Random Forest model"
   ]
  },
  {
   "cell_type": "code",
   "execution_count": 89,
   "metadata": {},
   "outputs": [
    {
     "data": {
      "text/plain": [
       "['joblib_final_model_Walmart.pkl']"
      ]
     },
     "execution_count": 89,
     "metadata": {},
     "output_type": "execute_result"
    }
   ],
   "source": [
    "# Save to file to working directory\n",
    "joblib_file = \"joblib_final_model_Walmart.pkl\"\n",
    "joblib.dump(rf, joblib_file)"
   ]
  },
  {
   "cell_type": "code",
   "execution_count": 90,
   "metadata": {},
   "outputs": [],
   "source": [
    "# Load from file\n",
    "final_model = joblib.load(\"joblib_final_model_Walmart.pkl\")"
   ]
  },
  {
   "cell_type": "code",
   "execution_count": 93,
   "metadata": {},
   "outputs": [
    {
     "data": {
      "text/plain": [
       "0.9791963767878759"
      ]
     },
     "execution_count": 93,
     "metadata": {},
     "output_type": "execute_result"
    }
   ],
   "source": [
    "# Calculate the accuracy and predictions\n",
    "final_model.score(X_test, y_test) # regular R2 value \n",
    "#print(\"Test Accuracy: {0:.2f} %\".format(100 * score))"
   ]
  },
  {
   "cell_type": "markdown",
   "metadata": {},
   "source": [
    "**We can now use the model to predict future weekly store sales**"
   ]
  }
 ],
 "metadata": {
  "kernelspec": {
   "display_name": "Python 3",
   "language": "python",
   "name": "python3"
  },
  "language_info": {
   "codemirror_mode": {
    "name": "ipython",
    "version": 3
   },
   "file_extension": ".py",
   "mimetype": "text/x-python",
   "name": "python",
   "nbconvert_exporter": "python",
   "pygments_lexer": "ipython3",
   "version": "3.7.6"
  }
 },
 "nbformat": 4,
 "nbformat_minor": 4
}
